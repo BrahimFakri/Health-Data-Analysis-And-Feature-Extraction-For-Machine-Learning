{
  "nbformat": 4,
  "nbformat_minor": 0,
  "metadata": {
    "colab": {
      "provenance": []
    },
    "kernelspec": {
      "name": "python3",
      "display_name": "Python 3"
    },
    "language_info": {
      "name": "python"
    }
  },
  "cells": [
    {
      "cell_type": "markdown",
      "source": [
        "#### Imports"
      ],
      "metadata": {
        "id": "6hD8J1ti1jnw"
      }
    },
    {
      "cell_type": "code",
      "source": [
        "# if package not installed, install with command\n",
        "\n",
        "#!pip install torchxrayvision"
      ],
      "metadata": {
        "id": "K7oSMiqKH6_B"
      },
      "execution_count": 26,
      "outputs": []
    },
    {
      "cell_type": "code",
      "source": [
        "import torchxrayvision as xrv\n",
        "\n",
        "import skimage\n",
        "#Image Processing for Python\n",
        "#scikit-image (a.k.a. skimage) is a collection of algorithms for image processing and computer vision\n",
        "\n",
        "import cv2\n",
        "\n",
        "import torch\n",
        "#The torch package contains data structures for multi-dimensional tensors and defines mathematical operations over these tensors.\n",
        "\n",
        "import torch.nn.functional as F\n",
        "\n",
        "import pandas as pd"
      ],
      "metadata": {
        "id": "xqLQi5hCHzsv"
      },
      "execution_count": 27,
      "outputs": []
    },
    {
      "cell_type": "markdown",
      "source": [
        "#### Import a chest xray image"
      ],
      "metadata": {
        "id": "9_PXuVVe2gsj"
      }
    },
    {
      "cell_type": "code",
      "source": [
        "img = skimage.io.imread('/content/02aa804e-bde0afdd-112c0b34-7bc16630-4e384014.jpg')"
      ],
      "metadata": {
        "id": "CB0hqP_cINd3"
      },
      "execution_count": 28,
      "outputs": []
    },
    {
      "cell_type": "markdown",
      "source": [
        "#### Display image details\n",
        "*the image is read as an array (type = numpy.ndarray)*"
      ],
      "metadata": {
        "id": "Cwp57PGl24Ny"
      }
    },
    {
      "cell_type": "code",
      "source": [
        "img"
      ],
      "metadata": {
        "id": "4qGbnxRfKdZz",
        "outputId": "53ef71cd-dda3-4cce-b883-24bf68ebf9b1",
        "colab": {
          "base_uri": "https://localhost:8080/"
        }
      },
      "execution_count": 29,
      "outputs": [
        {
          "output_type": "execute_result",
          "data": {
            "text/plain": [
              "array([[0, 0, 0, ..., 0, 0, 0],\n",
              "       [0, 0, 0, ..., 0, 0, 0],\n",
              "       [0, 0, 0, ..., 0, 0, 0],\n",
              "       ...,\n",
              "       [0, 0, 0, ..., 0, 0, 0],\n",
              "       [0, 0, 0, ..., 0, 0, 0],\n",
              "       [0, 0, 0, ..., 0, 0, 0]], dtype=uint8)"
            ]
          },
          "metadata": {},
          "execution_count": 29
        }
      ]
    },
    {
      "cell_type": "markdown",
      "source": [
        "#### Select model to use for feature extraction\n",
        "*we choose densenet121-res224-chex as the model weights name from Stanford university CheXpert models*"
      ],
      "metadata": {
        "id": "PJEfChUn3PYr"
      }
    },
    {
      "cell_type": "code",
      "execution_count": 30,
      "metadata": {
        "id": "ZoLzhnyXGZuh"
      },
      "outputs": [],
      "source": [
        "model_weights_name = \"densenet121-res224-chex\"\n",
        "\n",
        "# Select model \n",
        "model = xrv.models.DenseNet(weights = model_weights_name)\n",
        "\n",
        "#Initialize the densefeature_embeddings with an empty list:\n",
        "densefeature_embeddings = []\n",
        "\n",
        "#Initialize the prediction_embeddings with an empty list:\n",
        "prediction_embeddings = []\n",
        "\n",
        "#Scales images to be roughly [-1024 1024]:\n",
        "img = xrv.datasets.normalize(img, 255)\n"
      ]
    },
    {
      "cell_type": "code",
      "source": [
        "model"
      ],
      "metadata": {
        "colab": {
          "base_uri": "https://localhost:8080/"
        },
        "id": "WiEzZR3qjA-8",
        "outputId": "9ef05ce5-b3a9-4936-beb6-e57fa0018760"
      },
      "execution_count": 31,
      "outputs": [
        {
          "output_type": "execute_result",
          "data": {
            "text/plain": [
              "XRV-DenseNet121-densenet121-res224-chex"
            ]
          },
          "metadata": {},
          "execution_count": 31
        }
      ]
    },
    {
      "cell_type": "code",
      "source": [
        "# For each image check if they are 2D arrays\n",
        "if len(img.shape) > 2:\n",
        "    img = img[:, :, 0]\n",
        "if len(img.shape) < 2:\n",
        "    print(\"Error: Dimension lower than 2 for image!\")"
      ],
      "metadata": {
        "id": "DK5Vf76xZWRf"
      },
      "execution_count": 32,
      "outputs": []
    },
    {
      "cell_type": "code",
      "source": [
        "# Add color channel for prediction\n",
        "#Resize using OpenCV\n",
        "img = cv2.resize(img, (224, 224), interpolation = cv2.INTER_AREA)   \n",
        "img = img[None, :, :]"
      ],
      "metadata": {
        "id": "eZbAB_Fhdfzu"
      },
      "execution_count": 33,
      "outputs": []
    },
    {
      "cell_type": "code",
      "source": [
        "img"
      ],
      "metadata": {
        "id": "t5Lzhqg3HXnl",
        "colab": {
          "base_uri": "https://localhost:8080/"
        },
        "outputId": "978c825b-1b97-4b15-f646-d2f81f03b592"
      },
      "execution_count": 34,
      "outputs": [
        {
          "output_type": "execute_result",
          "data": {
            "text/plain": [
              "array([[[-1024.0001, -1024.0001, -1024.0001, ..., -1024.0001,\n",
              "         -1024.0001, -1024.0001],\n",
              "        [-1024.0001, -1024.0001, -1024.0001, ..., -1024.0001,\n",
              "         -1024.0001, -1024.0001],\n",
              "        [-1024.    , -1024.    , -1024.    , ..., -1024.    ,\n",
              "         -1024.    , -1024.    ],\n",
              "        ...,\n",
              "        [-1024.0001, -1024.0001, -1024.0001, ..., -1024.0001,\n",
              "         -1024.0001, -1024.0001],\n",
              "        [-1024.0001, -1024.0001, -1024.0001, ..., -1024.0001,\n",
              "         -1024.0001, -1024.0001],\n",
              "        [-1024.0001, -1024.0001, -1024.0001, ..., -1024.0001,\n",
              "         -1024.0001, -1024.0001]]], dtype=float32)"
            ]
          },
          "metadata": {},
          "execution_count": 34
        }
      ]
    },
    {
      "cell_type": "code",
      "source": [
        "\n"
      ],
      "metadata": {
        "id": "NGLdEFEJiV_J"
      },
      "execution_count": null,
      "outputs": []
    },
    {
      "cell_type": "code",
      "source": [
        "# Select if you want to use CUDA support for GPU (optional as it is usually pretty fast even in CPUT)\n",
        "cuda = False"
      ],
      "metadata": {
        "id": "4Pwr2zXAQAKY"
      },
      "execution_count": 35,
      "outputs": []
    },
    {
      "cell_type": "code",
      "source": [
        "output = {}\n",
        "with torch.no_grad():\n",
        "    img = torch.from_numpy(img).unsqueeze(0)\n",
        "    if cuda:\n",
        "        img = img.cuda()\n",
        "        model = model.cuda()\n",
        "      \n",
        "    # Extract dense features\n",
        "    feats = model.features(img)\n",
        "    feats = F.relu(feats, inplace=True)\n",
        "    feats = F.adaptive_avg_pool2d(feats, (1, 1))\n",
        "    densefeatures = feats.cpu().detach().numpy().reshape(-1)\n",
        "    densefeature_embeddings = densefeatures\n",
        "\n",
        "    # Extract predicted probabilities of considered 18 classes:\n",
        "    # ['Atelectasis','Consolidation','Infiltration','Pneumothorax','Edema','Emphysema',Fibrosis',\n",
        "    #  'Effusion','Pneumonia','Pleural_Thickening','Cardiomegaly','Nodule',Mass','Hernia',\n",
        "    #  'Lung Lesion','Fracture','Lung Opacity','Enlarged Cardiomediastinum']\n",
        "    preds = model(img).cpu()\n",
        "    predictions = preds[0].detach().numpy()\n",
        "    prediction_embeddings = predictions  \n",
        "\n",
        "# Return embeddings\n",
        "#return densefeature_embeddings, prediction_embeddings"
      ],
      "metadata": {
        "id": "Ux4MDw8lGtOF",
        "colab": {
          "base_uri": "https://localhost:8080/"
        },
        "outputId": "01d9ad9f-d698-4a3e-e80b-47fda573facd"
      },
      "execution_count": 36,
      "outputs": [
        {
          "output_type": "stream",
          "name": "stdout",
          "text": [
            "Warning: Input image does not appear to be normalized correctly. The input image has the range [-1024.00,1019.87] which doesn't seem to be in the [-1024,1024] range. This warning may be wrong though. Only the first image is tested and we are only using a heuristic in an attempt to save a user from using the wrong normalization.\n"
          ]
        }
      ]
    },
    {
      "cell_type": "code",
      "source": [
        "print(densefeature_embeddings)\n",
        "len(densefeature_embeddings)"
      ],
      "metadata": {
        "colab": {
          "base_uri": "https://localhost:8080/"
        },
        "id": "as-OPYebEkhU",
        "outputId": "6599ecf6-d7ff-4200-b73b-6a0844aae346"
      },
      "execution_count": 37,
      "outputs": [
        {
          "output_type": "stream",
          "name": "stdout",
          "text": [
            "[0.         0.         0.1838883  ... 0.00537282 0.         0.10955384]\n"
          ]
        },
        {
          "output_type": "execute_result",
          "data": {
            "text/plain": [
              "1024"
            ]
          },
          "metadata": {},
          "execution_count": 37
        }
      ]
    },
    {
      "cell_type": "code",
      "source": [
        "print(preds)\n",
        "len(preds)\n"
      ],
      "metadata": {
        "colab": {
          "base_uri": "https://localhost:8080/"
        },
        "id": "xeyKhGrxHmRw",
        "outputId": "d9704cfb-e037-4789-8be8-e4327b1ed3bb"
      },
      "execution_count": 38,
      "outputs": [
        {
          "output_type": "stream",
          "name": "stdout",
          "text": [
            "tensor([[0.2119, 0.1532, 0.5000, 0.0455, 0.2962, 0.5000, 0.5000, 0.0979, 0.1885,\n",
            "         0.5000, 0.1239, 0.5000, 0.5000, 0.5000, 0.2773, 0.4033, 0.3089, 0.1374]])\n"
          ]
        },
        {
          "output_type": "execute_result",
          "data": {
            "text/plain": [
              "1"
            ]
          },
          "metadata": {},
          "execution_count": 38
        }
      ]
    },
    {
      "cell_type": "code",
      "source": [
        "print(predictions)\n",
        "len(predictions)"
      ],
      "metadata": {
        "id": "_gCJMy66s7Ay",
        "colab": {
          "base_uri": "https://localhost:8080/"
        },
        "outputId": "7a035ca8-e15a-4aef-9cb8-a36c1ca4b891"
      },
      "execution_count": 39,
      "outputs": [
        {
          "output_type": "stream",
          "name": "stdout",
          "text": [
            "[0.21186149 0.15321094 0.5        0.04549948 0.29623356 0.5\n",
            " 0.5        0.09788145 0.1885436  0.5        0.12390422 0.5\n",
            " 0.5        0.5        0.2773131  0.4033455  0.3089283  0.13744338]\n"
          ]
        },
        {
          "output_type": "execute_result",
          "data": {
            "text/plain": [
              "18"
            ]
          },
          "metadata": {},
          "execution_count": 39
        }
      ]
    },
    {
      "cell_type": "code",
      "source": [
        "print(prediction_embeddings)\n",
        "len(prediction_embeddings)"
      ],
      "metadata": {
        "id": "igoxavM0s7D3",
        "colab": {
          "base_uri": "https://localhost:8080/"
        },
        "outputId": "6ee1cb6a-cdb9-4940-94d4-b30edb5a3979"
      },
      "execution_count": 40,
      "outputs": [
        {
          "output_type": "stream",
          "name": "stdout",
          "text": [
            "[0.21186149 0.15321094 0.5        0.04549948 0.29623356 0.5\n",
            " 0.5        0.09788145 0.1885436  0.5        0.12390422 0.5\n",
            " 0.5        0.5        0.2773131  0.4033455  0.3089283  0.13744338]\n"
          ]
        },
        {
          "output_type": "execute_result",
          "data": {
            "text/plain": [
              "18"
            ]
          },
          "metadata": {},
          "execution_count": 40
        }
      ]
    },
    {
      "cell_type": "markdown",
      "source": [
        "### Creating the dataframe from the arrays:"
      ],
      "metadata": {
        "id": "VK21SLO6oSLD"
      }
    },
    {
      "cell_type": "markdown",
      "source": [
        "##### concatenation:"
      ],
      "metadata": {
        "id": "YgWMGD94oSOi"
      }
    },
    {
      "cell_type": "code",
      "source": [
        " df_vision_dense_embeddings_fusion = pd.DataFrame(densefeature_embeddings.reshape(1,-1), columns=['vd_'+str(i) for i in range(densefeature_embeddings.shape[0])])\n",
        " "
      ],
      "metadata": {
        "id": "nv5WVe5IGtg9"
      },
      "execution_count": 41,
      "outputs": []
    },
    {
      "cell_type": "code",
      "source": [
        "df_vision_dense_embeddings_fusion"
      ],
      "metadata": {
        "id": "yVTSHwMGGtjx",
        "colab": {
          "base_uri": "https://localhost:8080/",
          "height": 174
        },
        "outputId": "b7ae2980-8c19-46d1-b811-7b26afa736ed"
      },
      "execution_count": 42,
      "outputs": [
        {
          "output_type": "execute_result",
          "data": {
            "text/plain": [
              "   vd_0  vd_1      vd_2      vd_3      vd_4      vd_5      vd_6      vd_7  \\\n",
              "0   0.0   0.0  0.183888  0.007851  0.024935  0.012488  0.153937  0.021945   \n",
              "\n",
              "   vd_8      vd_9  ...  vd_1014   vd_1015  vd_1016   vd_1017   vd_1018  \\\n",
              "0   0.0  0.018086  ...      0.0  0.011642      0.0  0.019547  0.050666   \n",
              "\n",
              "   vd_1019   vd_1020   vd_1021  vd_1022   vd_1023  \n",
              "0      0.0  0.004459  0.005373      0.0  0.109554  \n",
              "\n",
              "[1 rows x 1024 columns]"
            ],
            "text/html": [
              "\n",
              "  <div id=\"df-9079e4a8-9ea1-4068-b0f2-886427f9fa00\">\n",
              "    <div class=\"colab-df-container\">\n",
              "      <div>\n",
              "<style scoped>\n",
              "    .dataframe tbody tr th:only-of-type {\n",
              "        vertical-align: middle;\n",
              "    }\n",
              "\n",
              "    .dataframe tbody tr th {\n",
              "        vertical-align: top;\n",
              "    }\n",
              "\n",
              "    .dataframe thead th {\n",
              "        text-align: right;\n",
              "    }\n",
              "</style>\n",
              "<table border=\"1\" class=\"dataframe\">\n",
              "  <thead>\n",
              "    <tr style=\"text-align: right;\">\n",
              "      <th></th>\n",
              "      <th>vd_0</th>\n",
              "      <th>vd_1</th>\n",
              "      <th>vd_2</th>\n",
              "      <th>vd_3</th>\n",
              "      <th>vd_4</th>\n",
              "      <th>vd_5</th>\n",
              "      <th>vd_6</th>\n",
              "      <th>vd_7</th>\n",
              "      <th>vd_8</th>\n",
              "      <th>vd_9</th>\n",
              "      <th>...</th>\n",
              "      <th>vd_1014</th>\n",
              "      <th>vd_1015</th>\n",
              "      <th>vd_1016</th>\n",
              "      <th>vd_1017</th>\n",
              "      <th>vd_1018</th>\n",
              "      <th>vd_1019</th>\n",
              "      <th>vd_1020</th>\n",
              "      <th>vd_1021</th>\n",
              "      <th>vd_1022</th>\n",
              "      <th>vd_1023</th>\n",
              "    </tr>\n",
              "  </thead>\n",
              "  <tbody>\n",
              "    <tr>\n",
              "      <th>0</th>\n",
              "      <td>0.0</td>\n",
              "      <td>0.0</td>\n",
              "      <td>0.183888</td>\n",
              "      <td>0.007851</td>\n",
              "      <td>0.024935</td>\n",
              "      <td>0.012488</td>\n",
              "      <td>0.153937</td>\n",
              "      <td>0.021945</td>\n",
              "      <td>0.0</td>\n",
              "      <td>0.018086</td>\n",
              "      <td>...</td>\n",
              "      <td>0.0</td>\n",
              "      <td>0.011642</td>\n",
              "      <td>0.0</td>\n",
              "      <td>0.019547</td>\n",
              "      <td>0.050666</td>\n",
              "      <td>0.0</td>\n",
              "      <td>0.004459</td>\n",
              "      <td>0.005373</td>\n",
              "      <td>0.0</td>\n",
              "      <td>0.109554</td>\n",
              "    </tr>\n",
              "  </tbody>\n",
              "</table>\n",
              "<p>1 rows × 1024 columns</p>\n",
              "</div>\n",
              "      <button class=\"colab-df-convert\" onclick=\"convertToInteractive('df-9079e4a8-9ea1-4068-b0f2-886427f9fa00')\"\n",
              "              title=\"Convert this dataframe to an interactive table.\"\n",
              "              style=\"display:none;\">\n",
              "        \n",
              "  <svg xmlns=\"http://www.w3.org/2000/svg\" height=\"24px\"viewBox=\"0 0 24 24\"\n",
              "       width=\"24px\">\n",
              "    <path d=\"M0 0h24v24H0V0z\" fill=\"none\"/>\n",
              "    <path d=\"M18.56 5.44l.94 2.06.94-2.06 2.06-.94-2.06-.94-.94-2.06-.94 2.06-2.06.94zm-11 1L8.5 8.5l.94-2.06 2.06-.94-2.06-.94L8.5 2.5l-.94 2.06-2.06.94zm10 10l.94 2.06.94-2.06 2.06-.94-2.06-.94-.94-2.06-.94 2.06-2.06.94z\"/><path d=\"M17.41 7.96l-1.37-1.37c-.4-.4-.92-.59-1.43-.59-.52 0-1.04.2-1.43.59L10.3 9.45l-7.72 7.72c-.78.78-.78 2.05 0 2.83L4 21.41c.39.39.9.59 1.41.59.51 0 1.02-.2 1.41-.59l7.78-7.78 2.81-2.81c.8-.78.8-2.07 0-2.86zM5.41 20L4 18.59l7.72-7.72 1.47 1.35L5.41 20z\"/>\n",
              "  </svg>\n",
              "      </button>\n",
              "      \n",
              "  <style>\n",
              "    .colab-df-container {\n",
              "      display:flex;\n",
              "      flex-wrap:wrap;\n",
              "      gap: 12px;\n",
              "    }\n",
              "\n",
              "    .colab-df-convert {\n",
              "      background-color: #E8F0FE;\n",
              "      border: none;\n",
              "      border-radius: 50%;\n",
              "      cursor: pointer;\n",
              "      display: none;\n",
              "      fill: #1967D2;\n",
              "      height: 32px;\n",
              "      padding: 0 0 0 0;\n",
              "      width: 32px;\n",
              "    }\n",
              "\n",
              "    .colab-df-convert:hover {\n",
              "      background-color: #E2EBFA;\n",
              "      box-shadow: 0px 1px 2px rgba(60, 64, 67, 0.3), 0px 1px 3px 1px rgba(60, 64, 67, 0.15);\n",
              "      fill: #174EA6;\n",
              "    }\n",
              "\n",
              "    [theme=dark] .colab-df-convert {\n",
              "      background-color: #3B4455;\n",
              "      fill: #D2E3FC;\n",
              "    }\n",
              "\n",
              "    [theme=dark] .colab-df-convert:hover {\n",
              "      background-color: #434B5C;\n",
              "      box-shadow: 0px 1px 3px 1px rgba(0, 0, 0, 0.15);\n",
              "      filter: drop-shadow(0px 1px 2px rgba(0, 0, 0, 0.3));\n",
              "      fill: #FFFFFF;\n",
              "    }\n",
              "  </style>\n",
              "\n",
              "      <script>\n",
              "        const buttonEl =\n",
              "          document.querySelector('#df-9079e4a8-9ea1-4068-b0f2-886427f9fa00 button.colab-df-convert');\n",
              "        buttonEl.style.display =\n",
              "          google.colab.kernel.accessAllowed ? 'block' : 'none';\n",
              "\n",
              "        async function convertToInteractive(key) {\n",
              "          const element = document.querySelector('#df-9079e4a8-9ea1-4068-b0f2-886427f9fa00');\n",
              "          const dataTable =\n",
              "            await google.colab.kernel.invokeFunction('convertToInteractive',\n",
              "                                                     [key], {});\n",
              "          if (!dataTable) return;\n",
              "\n",
              "          const docLinkHtml = 'Like what you see? Visit the ' +\n",
              "            '<a target=\"_blank\" href=https://colab.research.google.com/notebooks/data_table.ipynb>data table notebook</a>'\n",
              "            + ' to learn more about interactive tables.';\n",
              "          element.innerHTML = '';\n",
              "          dataTable['output_type'] = 'display_data';\n",
              "          await google.colab.output.renderOutput(dataTable, element);\n",
              "          const docLink = document.createElement('div');\n",
              "          docLink.innerHTML = docLinkHtml;\n",
              "          element.appendChild(docLink);\n",
              "        }\n",
              "      </script>\n",
              "    </div>\n",
              "  </div>\n",
              "  "
            ]
          },
          "metadata": {},
          "execution_count": 42
        }
      ]
    },
    {
      "cell_type": "code",
      "source": [
        " df_vision_predictions_embeddings_fusion = pd.DataFrame(prediction_embeddings.reshape(1,-1), columns=['vp_'+str(i) for i in range(prediction_embeddings.shape[0])])\n",
        " "
      ],
      "metadata": {
        "id": "NCO8L9t4GtmU"
      },
      "execution_count": 43,
      "outputs": []
    },
    {
      "cell_type": "code",
      "source": [
        "df_vision_predictions_embeddings_fusion"
      ],
      "metadata": {
        "colab": {
          "base_uri": "https://localhost:8080/",
          "height": 145
        },
        "id": "NqBnCCX1ofh_",
        "outputId": "f0efe645-e6a7-4727-b5db-6e391b172276"
      },
      "execution_count": 44,
      "outputs": [
        {
          "output_type": "execute_result",
          "data": {
            "text/plain": [
              "       vp_0      vp_1  vp_2      vp_3      vp_4  vp_5  vp_6      vp_7  \\\n",
              "0  0.211861  0.153211   0.5  0.045499  0.296234   0.5   0.5  0.097881   \n",
              "\n",
              "       vp_8  vp_9     vp_10  vp_11  vp_12  vp_13     vp_14     vp_15  \\\n",
              "0  0.188544   0.5  0.123904    0.5    0.5    0.5  0.277313  0.403345   \n",
              "\n",
              "      vp_16     vp_17  \n",
              "0  0.308928  0.137443  "
            ],
            "text/html": [
              "\n",
              "  <div id=\"df-a36c515e-9407-4731-91a6-ee86bb93b892\">\n",
              "    <div class=\"colab-df-container\">\n",
              "      <div>\n",
              "<style scoped>\n",
              "    .dataframe tbody tr th:only-of-type {\n",
              "        vertical-align: middle;\n",
              "    }\n",
              "\n",
              "    .dataframe tbody tr th {\n",
              "        vertical-align: top;\n",
              "    }\n",
              "\n",
              "    .dataframe thead th {\n",
              "        text-align: right;\n",
              "    }\n",
              "</style>\n",
              "<table border=\"1\" class=\"dataframe\">\n",
              "  <thead>\n",
              "    <tr style=\"text-align: right;\">\n",
              "      <th></th>\n",
              "      <th>vp_0</th>\n",
              "      <th>vp_1</th>\n",
              "      <th>vp_2</th>\n",
              "      <th>vp_3</th>\n",
              "      <th>vp_4</th>\n",
              "      <th>vp_5</th>\n",
              "      <th>vp_6</th>\n",
              "      <th>vp_7</th>\n",
              "      <th>vp_8</th>\n",
              "      <th>vp_9</th>\n",
              "      <th>vp_10</th>\n",
              "      <th>vp_11</th>\n",
              "      <th>vp_12</th>\n",
              "      <th>vp_13</th>\n",
              "      <th>vp_14</th>\n",
              "      <th>vp_15</th>\n",
              "      <th>vp_16</th>\n",
              "      <th>vp_17</th>\n",
              "    </tr>\n",
              "  </thead>\n",
              "  <tbody>\n",
              "    <tr>\n",
              "      <th>0</th>\n",
              "      <td>0.211861</td>\n",
              "      <td>0.153211</td>\n",
              "      <td>0.5</td>\n",
              "      <td>0.045499</td>\n",
              "      <td>0.296234</td>\n",
              "      <td>0.5</td>\n",
              "      <td>0.5</td>\n",
              "      <td>0.097881</td>\n",
              "      <td>0.188544</td>\n",
              "      <td>0.5</td>\n",
              "      <td>0.123904</td>\n",
              "      <td>0.5</td>\n",
              "      <td>0.5</td>\n",
              "      <td>0.5</td>\n",
              "      <td>0.277313</td>\n",
              "      <td>0.403345</td>\n",
              "      <td>0.308928</td>\n",
              "      <td>0.137443</td>\n",
              "    </tr>\n",
              "  </tbody>\n",
              "</table>\n",
              "</div>\n",
              "      <button class=\"colab-df-convert\" onclick=\"convertToInteractive('df-a36c515e-9407-4731-91a6-ee86bb93b892')\"\n",
              "              title=\"Convert this dataframe to an interactive table.\"\n",
              "              style=\"display:none;\">\n",
              "        \n",
              "  <svg xmlns=\"http://www.w3.org/2000/svg\" height=\"24px\"viewBox=\"0 0 24 24\"\n",
              "       width=\"24px\">\n",
              "    <path d=\"M0 0h24v24H0V0z\" fill=\"none\"/>\n",
              "    <path d=\"M18.56 5.44l.94 2.06.94-2.06 2.06-.94-2.06-.94-.94-2.06-.94 2.06-2.06.94zm-11 1L8.5 8.5l.94-2.06 2.06-.94-2.06-.94L8.5 2.5l-.94 2.06-2.06.94zm10 10l.94 2.06.94-2.06 2.06-.94-2.06-.94-.94-2.06-.94 2.06-2.06.94z\"/><path d=\"M17.41 7.96l-1.37-1.37c-.4-.4-.92-.59-1.43-.59-.52 0-1.04.2-1.43.59L10.3 9.45l-7.72 7.72c-.78.78-.78 2.05 0 2.83L4 21.41c.39.39.9.59 1.41.59.51 0 1.02-.2 1.41-.59l7.78-7.78 2.81-2.81c.8-.78.8-2.07 0-2.86zM5.41 20L4 18.59l7.72-7.72 1.47 1.35L5.41 20z\"/>\n",
              "  </svg>\n",
              "      </button>\n",
              "      \n",
              "  <style>\n",
              "    .colab-df-container {\n",
              "      display:flex;\n",
              "      flex-wrap:wrap;\n",
              "      gap: 12px;\n",
              "    }\n",
              "\n",
              "    .colab-df-convert {\n",
              "      background-color: #E8F0FE;\n",
              "      border: none;\n",
              "      border-radius: 50%;\n",
              "      cursor: pointer;\n",
              "      display: none;\n",
              "      fill: #1967D2;\n",
              "      height: 32px;\n",
              "      padding: 0 0 0 0;\n",
              "      width: 32px;\n",
              "    }\n",
              "\n",
              "    .colab-df-convert:hover {\n",
              "      background-color: #E2EBFA;\n",
              "      box-shadow: 0px 1px 2px rgba(60, 64, 67, 0.3), 0px 1px 3px 1px rgba(60, 64, 67, 0.15);\n",
              "      fill: #174EA6;\n",
              "    }\n",
              "\n",
              "    [theme=dark] .colab-df-convert {\n",
              "      background-color: #3B4455;\n",
              "      fill: #D2E3FC;\n",
              "    }\n",
              "\n",
              "    [theme=dark] .colab-df-convert:hover {\n",
              "      background-color: #434B5C;\n",
              "      box-shadow: 0px 1px 3px 1px rgba(0, 0, 0, 0.15);\n",
              "      filter: drop-shadow(0px 1px 2px rgba(0, 0, 0, 0.3));\n",
              "      fill: #FFFFFF;\n",
              "    }\n",
              "  </style>\n",
              "\n",
              "      <script>\n",
              "        const buttonEl =\n",
              "          document.querySelector('#df-a36c515e-9407-4731-91a6-ee86bb93b892 button.colab-df-convert');\n",
              "        buttonEl.style.display =\n",
              "          google.colab.kernel.accessAllowed ? 'block' : 'none';\n",
              "\n",
              "        async function convertToInteractive(key) {\n",
              "          const element = document.querySelector('#df-a36c515e-9407-4731-91a6-ee86bb93b892');\n",
              "          const dataTable =\n",
              "            await google.colab.kernel.invokeFunction('convertToInteractive',\n",
              "                                                     [key], {});\n",
              "          if (!dataTable) return;\n",
              "\n",
              "          const docLinkHtml = 'Like what you see? Visit the ' +\n",
              "            '<a target=\"_blank\" href=https://colab.research.google.com/notebooks/data_table.ipynb>data table notebook</a>'\n",
              "            + ' to learn more about interactive tables.';\n",
              "          element.innerHTML = '';\n",
              "          dataTable['output_type'] = 'display_data';\n",
              "          await google.colab.output.renderOutput(dataTable, element);\n",
              "          const docLink = document.createElement('div');\n",
              "          docLink.innerHTML = docLinkHtml;\n",
              "          element.appendChild(docLink);\n",
              "        }\n",
              "      </script>\n",
              "    </div>\n",
              "  </div>\n",
              "  "
            ]
          },
          "metadata": {},
          "execution_count": 44
        }
      ]
    }
  ]
}