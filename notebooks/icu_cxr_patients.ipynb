{
 "cells": [
  {
   "cell_type": "markdown",
   "id": "70703480",
   "metadata": {},
   "source": [
    "# ICU CXR Patients"
   ]
  },
  {
   "attachments": {},
   "cell_type": "markdown",
   "id": "32a5c2f4",
   "metadata": {},
   "source": [
    "In this notebook, the goal is to find the patients that have both icu and cxr data.\n",
    "\n",
    "We start by reading the following data sources:\n",
    "\n",
    "- mimic_cxr_chexpert : the file containing all patients with a chest pathology measurements, meaning those who have a chest radiology image\n",
    "\n",
    "\n",
    "\n",
    "- icustays : the file containing all patients with an icu stay, meaning those who have a stay_id in the icustays table\n",
    "\n",
    "\n",
    "Then, we find the intersection between the two datasets."
   ]
  },
  {
   "cell_type": "markdown",
   "id": "fdd52343",
   "metadata": {},
   "source": [
    "### Imports"
   ]
  },
  {
   "cell_type": "code",
   "execution_count": 3,
   "id": "205e6e40",
   "metadata": {},
   "outputs": [],
   "source": [
    "import os\n",
    "\n",
    "os.chdir('../')\n",
    "\n",
    "import pandas as pd\n",
    "\n",
    "from pandas import read_csv\n",
    "\n",
    "from src.data import constants"
   ]
  },
  {
   "cell_type": "markdown",
   "id": "508c86c1",
   "metadata": {},
   "source": [
    "### Read data from local source"
   ]
  },
  {
   "cell_type": "code",
   "execution_count": 4,
   "id": "257f98ef",
   "metadata": {},
   "outputs": [],
   "source": [
    "df_mimic_cxr_chexpert = read_csv(constants.mimic_cxr_chexpert)\n",
    "df_icustays = read_csv(constants.icustays)"
   ]
  },
  {
   "cell_type": "code",
   "execution_count": 6,
   "id": "4f4ebe5d",
   "metadata": {},
   "outputs": [
    {
     "name": "stdout",
     "output_type": "stream",
     "text": [
      "The number of patients with a chest radiology image is:\n",
      "65379\n",
      "The number of patients with an icu stay is:\n",
      "53150\n"
     ]
    }
   ],
   "source": [
    "print('The number of patients with a chest radiology image is:')\n",
    "\n",
    "print(len(df_mimic_cxr_chexpert[\"subject_id\"].unique()))\n",
    "\n",
    "print('The number of patients with an icu stay is:')\n",
    "\n",
    "print(len(df_icustays[\"subject_id\"].unique()))\n"
   ]
  },
  {
   "cell_type": "markdown",
   "id": "8b748e0c",
   "metadata": {},
   "source": [
    "### Find the intersection between the two datasets:"
   ]
  },
  {
   "cell_type": "code",
   "execution_count": 7,
   "id": "2470065b",
   "metadata": {},
   "outputs": [],
   "source": [
    "icu_cxr_patients = pd.Series(list(set(df_mimic_cxr_chexpert[\"subject_id\"]).intersection(set(df_icustays[\"subject_id\"]))))\n"
   ]
  },
  {
   "cell_type": "code",
   "execution_count": 10,
   "id": "caf312de",
   "metadata": {},
   "outputs": [
    {
     "name": "stdout",
     "output_type": "stream",
     "text": [
      "The number of patients with both a chest radiology image and an icu stay is:\n"
     ]
    },
    {
     "data": {
      "text/plain": [
       "20245"
      ]
     },
     "execution_count": 10,
     "metadata": {},
     "output_type": "execute_result"
    }
   ],
   "source": [
    "print('The number of patients with both a chest radiology image and an icu stay is:')\n",
    "\n",
    "len(icu_cxr_patients)"
   ]
  },
  {
   "cell_type": "markdown",
   "id": "1b20947c",
   "metadata": {},
   "source": [
    "### Saving the result to a csv file"
   ]
  },
  {
   "cell_type": "code",
   "execution_count": null,
   "id": "aed977b0",
   "metadata": {},
   "outputs": [],
   "source": [
    "icu_cxr_patients.to_csv(\"csvs/icu_cxr_patients.csv\")"
   ]
  },
  {
   "cell_type": "markdown",
   "id": "acd9ff62",
   "metadata": {},
   "source": [
    "### Selecting a cohort of 10 patients and saving the result to a csv file"
   ]
  },
  {
   "cell_type": "markdown",
   "id": "3687c1a3",
   "metadata": {},
   "source": [
    "This cohort can be used for the tests and embeddings generation"
   ]
  },
  {
   "cell_type": "code",
   "execution_count": 13,
   "id": "71d970cd",
   "metadata": {},
   "outputs": [],
   "source": [
    "icu_cxr_patients_sample10 = icu_cxr_patients.sample(10, random_state=0)"
   ]
  },
  {
   "cell_type": "code",
   "execution_count": 14,
   "id": "6f74f12b",
   "metadata": {},
   "outputs": [
    {
     "data": {
      "text/plain": [
       "8535     14734813\n",
       "14315    11888614\n",
       "4057     16934248\n",
       "5473     17074638\n",
       "17937    16762272\n",
       "12032    14888240\n",
       "14206    13198693\n",
       "7539     18135918\n",
       "19179    11658675\n",
       "4843     14449150\n",
       "dtype: int64"
      ]
     },
     "execution_count": 14,
     "metadata": {},
     "output_type": "execute_result"
    }
   ],
   "source": [
    "icu_cxr_patients_sample10"
   ]
  },
  {
   "cell_type": "code",
   "execution_count": 16,
   "id": "8191e7d8",
   "metadata": {},
   "outputs": [],
   "source": [
    "icu_cxr_patients_sample10.to_csv(\"csvs/icu_cxr_patients_sample10.csv\")"
   ]
  }
 ],
 "metadata": {
  "kernelspec": {
   "display_name": "Python 3 (ipykernel)",
   "language": "python",
   "name": "python3"
  },
  "language_info": {
   "codemirror_mode": {
    "name": "ipython",
    "version": 3
   },
   "file_extension": ".py",
   "mimetype": "text/x-python",
   "name": "python",
   "nbconvert_exporter": "python",
   "pygments_lexer": "ipython3",
   "version": "3.9.13"
  }
 },
 "nbformat": 4,
 "nbformat_minor": 5
}
