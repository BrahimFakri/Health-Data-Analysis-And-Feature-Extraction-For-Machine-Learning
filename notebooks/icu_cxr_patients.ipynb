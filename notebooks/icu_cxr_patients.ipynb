{
 "cells": [
  {
   "cell_type": "markdown",
   "id": "fdd52343",
   "metadata": {},
   "source": [
    "imports"
   ]
  },
  {
   "cell_type": "code",
   "execution_count": 2,
   "id": "205e6e40",
   "metadata": {},
   "outputs": [],
   "source": [
    "import os\n",
    "\n",
    "os.chdir('../')\n",
    "\n",
    "import pandas as pd\n",
    "\n",
    "from pandas import read_csv\n",
    "\n",
    "from src.data import constants"
   ]
  },
  {
   "cell_type": "markdown",
   "id": "508c86c1",
   "metadata": {},
   "source": [
    "read data from local source"
   ]
  },
  {
   "cell_type": "code",
   "execution_count": 3,
   "id": "257f98ef",
   "metadata": {},
   "outputs": [],
   "source": [
    "df_mimic_cxr_chexpert = read_csv(constants.mimic_cxr_chexpert)\n",
    "df_icustays = read_csv(constants.icustays)"
   ]
  },
  {
   "cell_type": "code",
   "execution_count": 4,
   "id": "6e493568",
   "metadata": {
    "collapsed": true
   },
   "outputs": [
    {
     "name": "stdout",
     "output_type": "stream",
     "text": [
      "<class 'pandas.core.frame.DataFrame'>\n",
      "RangeIndex: 227827 entries, 0 to 227826\n",
      "Data columns (total 16 columns):\n",
      " #   Column                      Non-Null Count   Dtype  \n",
      "---  ------                      --------------   -----  \n",
      " 0   subject_id                  227827 non-null  int64  \n",
      " 1   study_id                    227827 non-null  int64  \n",
      " 2   Atelectasis                 57666 non-null   float64\n",
      " 3   Cardiomegaly                66799 non-null   float64\n",
      " 4   Consolidation               23076 non-null   float64\n",
      " 5   Edema                       65833 non-null   float64\n",
      " 6   Enlarged Cardiomediastinum  21837 non-null   float64\n",
      " 7   Fracture                    5831 non-null    float64\n",
      " 8   Lung Lesion                 8287 non-null    float64\n",
      " 9   Lung Opacity                58425 non-null   float64\n",
      " 10  No Finding                  75455 non-null   float64\n",
      " 11  Pleural Effusion            87272 non-null   float64\n",
      " 12  Pleural Other               2902 non-null    float64\n",
      " 13  Pneumonia                   59185 non-null   float64\n",
      " 14  Pneumothorax                53848 non-null   float64\n",
      " 15  Support Devices             70281 non-null   float64\n",
      "dtypes: float64(14), int64(2)\n",
      "memory usage: 27.8 MB\n"
     ]
    }
   ],
   "source": [
    "df_mimic_cxr_chexpert.info()"
   ]
  },
  {
   "cell_type": "code",
   "execution_count": 6,
   "id": "f9c4cb21",
   "metadata": {
    "collapsed": true
   },
   "outputs": [
    {
     "name": "stdout",
     "output_type": "stream",
     "text": [
      "<class 'pandas.core.frame.DataFrame'>\n",
      "RangeIndex: 76540 entries, 0 to 76539\n",
      "Data columns (total 8 columns):\n",
      " #   Column          Non-Null Count  Dtype  \n",
      "---  ------          --------------  -----  \n",
      " 0   subject_id      76540 non-null  int64  \n",
      " 1   hadm_id         76540 non-null  int64  \n",
      " 2   stay_id         76540 non-null  int64  \n",
      " 3   first_careunit  76540 non-null  object \n",
      " 4   last_careunit   76540 non-null  object \n",
      " 5   intime          76540 non-null  object \n",
      " 6   outtime         76540 non-null  object \n",
      " 7   los             76540 non-null  float64\n",
      "dtypes: float64(1), int64(3), object(4)\n",
      "memory usage: 4.7+ MB\n"
     ]
    }
   ],
   "source": [
    "df_icustays.info()"
   ]
  },
  {
   "cell_type": "code",
   "execution_count": 5,
   "id": "4f4ebe5d",
   "metadata": {},
   "outputs": [
    {
     "name": "stdout",
     "output_type": "stream",
     "text": [
      "65379\n",
      "53150\n"
     ]
    }
   ],
   "source": [
    "print(len(df_mimic_cxr_chexpert[\"subject_id\"].unique()))\n",
    "\n",
    "print(len(df_icustays[\"subject_id\"].unique()))\n"
   ]
  },
  {
   "cell_type": "code",
   "execution_count": 6,
   "id": "2470065b",
   "metadata": {},
   "outputs": [],
   "source": [
    "icu_cxr_patients = pd.Series(list(set(df_mimic_cxr_chexpert[\"subject_id\"]).intersection(set(df_icustays[\"subject_id\"]))))\n"
   ]
  },
  {
   "cell_type": "code",
   "execution_count": 7,
   "id": "42e62d66",
   "metadata": {},
   "outputs": [
    {
     "data": {
      "text/plain": [
       "(20245,)"
      ]
     },
     "execution_count": 7,
     "metadata": {},
     "output_type": "execute_result"
    }
   ],
   "source": [
    "icu_cxr_patients.shape\n"
   ]
  },
  {
   "cell_type": "code",
   "execution_count": 14,
   "id": "71d970cd",
   "metadata": {},
   "outputs": [],
   "source": [
    "icu_cxr_patients_sample10 = icu_cxr_patients.sample(10, random_state=0)"
   ]
  },
  {
   "cell_type": "code",
   "execution_count": 15,
   "id": "6f74f12b",
   "metadata": {},
   "outputs": [
    {
     "data": {
      "text/plain": [
       "8535     14734813\n",
       "14315    11888614\n",
       "4057     16934248\n",
       "5473     17074638\n",
       "17937    16762272\n",
       "12032    14888240\n",
       "14206    13198693\n",
       "7539     18135918\n",
       "19179    11658675\n",
       "4843     14449150\n",
       "dtype: int64"
      ]
     },
     "execution_count": 15,
     "metadata": {},
     "output_type": "execute_result"
    }
   ],
   "source": [
    "icu_cxr_patients_sample10"
   ]
  },
  {
   "cell_type": "code",
   "execution_count": 16,
   "id": "8191e7d8",
   "metadata": {},
   "outputs": [],
   "source": [
    "icu_cxr_patients_sample10.to_csv(\"csvs/icu_cxr_patients_sample10.csv\")"
   ]
  }
 ],
 "metadata": {
  "kernelspec": {
   "display_name": "Python 3 (ipykernel)",
   "language": "python",
   "name": "python3"
  },
  "language_info": {
   "codemirror_mode": {
    "name": "ipython",
    "version": 3
   },
   "file_extension": ".py",
   "mimetype": "text/x-python",
   "name": "python",
   "nbconvert_exporter": "python",
   "pygments_lexer": "ipython3",
   "version": "3.9.7"
  }
 },
 "nbformat": 4,
 "nbformat_minor": 5
}
