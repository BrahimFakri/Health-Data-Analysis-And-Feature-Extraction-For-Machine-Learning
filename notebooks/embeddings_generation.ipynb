{
 "cells": [
  {
   "cell_type": "markdown",
   "id": "a14493df",
   "metadata": {},
   "source": [
    "### Imports\n"
   ]
  },
  {
   "cell_type": "code",
   "execution_count": 1,
   "id": "e06af37c",
   "metadata": {},
   "outputs": [],
   "source": [
    "import os\n",
    "os.chdir('../')\n",
    "\n",
    "from src.data import constants\n",
    "import pandas as pd\n",
    "from pandas import read_csv\n",
    "import datetime as dt\n",
    "import numpy as np\n"
   ]
  },
  {
   "cell_type": "markdown",
   "id": "8d9d6beb",
   "metadata": {},
   "source": [
    "### Read data from local source"
   ]
  },
  {
   "cell_type": "markdown",
   "id": "34077844",
   "metadata": {},
   "source": [
    "MIMIC-IV Dataset"
   ]
  },
  {
   "cell_type": "markdown",
   "id": "25cb2b4a",
   "metadata": {},
   "source": [
    "Core"
   ]
  },
  {
   "cell_type": "code",
   "execution_count": 2,
   "id": "301150bc",
   "metadata": {},
   "outputs": [],
   "source": [
    "df_admissions = read_csv(constants.admissions)\n",
    "df_patients = read_csv(constants.patients)\n",
    "df_transfers = read_csv(constants.transfers)"
   ]
  },
  {
   "cell_type": "markdown",
   "id": "e9f35988",
   "metadata": {},
   "source": [
    "HOSP"
   ]
  },
  {
   "cell_type": "code",
   "execution_count": 4,
   "id": "63d8499a",
   "metadata": {},
   "outputs": [],
   "source": [
    "df_d_labitems = read_csv(constants.d_labitems, nrows=1000)\n",
    "df_d_icd_procedures = read_csv(constants.d_icd_procedures, nrows=1000)\n",
    "df_d_icd_diagnoses = read_csv(constants.d_icd_diagnoses, nrows=1000)\n",
    "df_d_hcpcs = read_csv(constants.d_hcpcs, nrows=1000)\n",
    "df_diagnoses_icd = read_csv(constants.diagnoses_icd, nrows=1000)\n",
    "df_drgcodes = read_csv(constants.drgcodes, nrows=1000)\n",
    "df_emar = read_csv(constants.emar, nrows=1000)\n",
    "df_emar_detail = read_csv(constants.emar_detail, nrows=1000)\n",
    "df_hcpcsevents = read_csv(constants.hcpcsevents, nrows=1000)\n",
    "df_labevents = read_csv(constants.labevents, nrows=1000)\n",
    "df_microbiologyevents = read_csv(constants.microbiologyevents, nrows=1000)\n",
    "df_poe = read_csv(constants.poe, nrows=1000)\n",
    "df_poe_detail = read_csv(constants.poe_detail, nrows=1000)\n",
    "df_prescriptions = read_csv(constants.prescriptions, nrows=1000)\n",
    "df_procedures_icd = read_csv(constants.procedures_icd, nrows=1000)\n",
    "df_services = read_csv(constants.services, nrows=1000)\n",
    "df_pharmacy = read_csv(constants.pharmacy, nrows=1000)\n",
    "\n"
   ]
  },
  {
   "cell_type": "markdown",
   "id": "a755cd79",
   "metadata": {},
   "source": [
    "ICU"
   ]
  },
  {
   "cell_type": "code",
   "execution_count": 6,
   "id": "7c272307",
   "metadata": {},
   "outputs": [],
   "source": [
    "df_d_items = read_csv(constants.d_items, nrows=1000)\n",
    "df_procedureevents = read_csv(constants.procedureevents, nrows=1000)\n",
    "df_outputevents = read_csv(constants.outputevents, nrows=1000)\n",
    "df_inputevents = read_csv(constants.inputevents, nrows=1000)\n",
    "df_icustays = read_csv(constants.icustays, nrows=1000)\n",
    "df_datetimeevents = read_csv(constants.datetimeevents, nrows=1000)\n",
    "df_chartevents = read_csv(constants.chartevents, nrows=1000)\n",
    "\n",
    "\n"
   ]
  },
  {
   "cell_type": "markdown",
   "id": "7190b9c5",
   "metadata": {},
   "source": [
    "MIMIC-CXR Dataset"
   ]
  },
  {
   "cell_type": "code",
   "execution_count": 9,
   "id": "52abcde1",
   "metadata": {},
   "outputs": [],
   "source": [
    "df_mimic_cxr_chexpert = read_csv(constants.mimic_cxr_chexpert)\n",
    "df_mimic_cxr_metadata = read_csv(constants.mimic_cxr_metadata)"
   ]
  }
 ],
 "metadata": {
  "kernelspec": {
   "display_name": "Python 3 (ipykernel)",
   "language": "python",
   "name": "python3"
  },
  "language_info": {
   "codemirror_mode": {
    "name": "ipython",
    "version": 3
   },
   "file_extension": ".py",
   "mimetype": "text/x-python",
   "name": "python",
   "nbconvert_exporter": "python",
   "pygments_lexer": "ipython3",
   "version": "3.9.7"
  }
 },
 "nbformat": 4,
 "nbformat_minor": 5
}
