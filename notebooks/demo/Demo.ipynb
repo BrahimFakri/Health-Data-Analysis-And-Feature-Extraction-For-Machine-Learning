{
 "cells": [
  {
   "cell_type": "markdown",
   "id": "6a336544",
   "metadata": {},
   "source": [
    "We recommand the user to start by running the notebook ```general tutorial notebook.ipynb``` to be familiarised with the different tables and data in the mimic database.\n",
    "At the end of that notebook, the user will have generated a sample of 10 patients that will be used for remaining of the work.\n",
    "\n",
    "The second step is to generate features from demographic and time series data. In order to do so, the user should use the notebook ```Demographics_TimeSeries_features_Tutorial.ipynb```.\n",
    "\n",
    "Example of generating chart events features:\n",
    "```\n",
    "import os\n",
    "os.chdir('../..')\n",
    "\n",
    "from src.data import constants\n",
    "from src.utils import extraction_classes\n",
    "\n",
    "import pandas as pd\n",
    "\n",
    "chart_fusion = []\n",
    "for patient in constants.cohort:\n",
    "\n",
    "    chart_fusion.append(extraction_classes.Event_extraction(patient).extract_chart_events(patient))\n",
    "chart_fusion = pd.concat(chart_fusion, axis=0)\n",
    "\n",
    "```\n",
    "\n",
    "At the end of that notebook, the user will have generated a csv file ```fusion_ts_dem_dataframe.csv``` that contains features from ```demographics```, ```chart events```,  ```lab events``` and ```procedure events```. That csv file will be used with the vision features file to create the final features csv file.\n",
    "\n",
    "The third step is to generate features from image data. In order to do so, the user should use the notebook ```Extract_vision_features_Tutorial.ipynb```.\n",
    "At the end of the notebook, the csv file ```fusion_vision.csv``` will be generated.\n",
    "\n",
    "Then we can use the function ```Generate_Final_Features``` to concatenate all types of features to generate the embeddings file:"
   ]
  },
  {
   "cell_type": "code",
   "execution_count": null,
   "id": "603da604",
   "metadata": {},
   "outputs": [],
   "source": [
    "from src.utils.Generate_Final_Features import Generate_Final_Features\n"
   ]
  },
  {
   "cell_type": "code",
   "execution_count": null,
   "id": "e0341eda",
   "metadata": {},
   "outputs": [],
   "source": [
    "Generate_Final_Features()"
   ]
  },
  {
   "cell_type": "code",
   "execution_count": null,
   "id": "e1234244",
   "metadata": {},
   "outputs": [],
   "source": [
    "Generate_Final_Features().to_csv('csvs/Final_Features.csv', index=False)"
   ]
  }
 ],
 "metadata": {
  "kernelspec": {
   "display_name": "Python 3 (ipykernel)",
   "language": "python",
   "name": "python3"
  },
  "language_info": {
   "codemirror_mode": {
    "name": "ipython",
    "version": 3
   },
   "file_extension": ".py",
   "mimetype": "text/x-python",
   "name": "python",
   "nbconvert_exporter": "python",
   "pygments_lexer": "ipython3",
   "version": "3.9.7"
  }
 },
 "nbformat": 4,
 "nbformat_minor": 5
}
