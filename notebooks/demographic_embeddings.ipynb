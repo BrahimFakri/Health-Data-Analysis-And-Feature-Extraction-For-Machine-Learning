{
 "cells": [
  {
   "cell_type": "markdown",
   "id": "a14493df",
   "metadata": {},
   "source": [
    "### Imports\n"
   ]
  },
  {
   "cell_type": "code",
   "execution_count": 1,
   "id": "e06af37c",
   "metadata": {},
   "outputs": [],
   "source": [
    "import os\n",
    "os.chdir('../')\n",
    "\n",
    "from src.data import constants\n",
    "import pandas as pd\n",
    "from pandas import read_csv\n",
    "import datetime as dt\n",
    "import numpy as np\n"
   ]
  },
  {
   "cell_type": "markdown",
   "id": "8d9d6beb",
   "metadata": {},
   "source": [
    "### Read data from local source"
   ]
  },
  {
   "cell_type": "markdown",
   "id": "a5a9ba49",
   "metadata": {},
   "source": [
    "MIMIC-IV Dataset"
   ]
  },
  {
   "cell_type": "markdown",
   "id": "b12daf98",
   "metadata": {},
   "source": [
    "Core"
   ]
  },
  {
   "cell_type": "code",
   "execution_count": 2,
   "id": "301150bc",
   "metadata": {},
   "outputs": [],
   "source": [
    "df_admissions = read_csv(constants.admissions)\n",
    "df_patients = read_csv(constants.patients)\n",
    "df_transfers = read_csv(constants.transfers)\n"
   ]
  },
  {
   "cell_type": "markdown",
   "id": "a10670a0",
   "metadata": {},
   "source": [
    "ICU"
   ]
  },
  {
   "cell_type": "code",
   "execution_count": 3,
   "id": "95209256",
   "metadata": {},
   "outputs": [],
   "source": [
    "df_icustays = read_csv(constants.icustays)\n"
   ]
  },
  {
   "cell_type": "markdown",
   "id": "c5760061",
   "metadata": {},
   "source": [
    "MIMIC-CXR"
   ]
  },
  {
   "cell_type": "code",
   "execution_count": 4,
   "id": "52abcde1",
   "metadata": {},
   "outputs": [],
   "source": [
    "df_mimic_cxr_chexpert = read_csv(constants.mimic_cxr_chexpert)\n",
    "df_mimic_cxr_metadata = read_csv(constants.mimic_cxr_metadata)\n"
   ]
  },
  {
   "cell_type": "markdown",
   "id": "695fb238",
   "metadata": {},
   "source": [
    "#### CORE dataset fusion"
   ]
  },
  {
   "cell_type": "code",
   "execution_count": 5,
   "id": "ffa9933b",
   "metadata": {},
   "outputs": [],
   "source": [
    "df_core_fusion = df_admissions.merge(df_patients, on=(\"subject_id\")).merge(df_transfers, on=('subject_id', 'hadm_id'))\n"
   ]
  },
  {
   "cell_type": "code",
   "execution_count": 6,
   "id": "4dbb8b2b",
   "metadata": {
    "scrolled": true
   },
   "outputs": [
    {
     "name": "stdout",
     "output_type": "stream",
     "text": [
      "<class 'pandas.core.frame.DataFrame'>\n",
      "Int64Index: 1840955 entries, 0 to 1840954\n",
      "Data columns (total 25 columns):\n",
      " #   Column                Dtype \n",
      "---  ------                ----- \n",
      " 0   subject_id            int64 \n",
      " 1   hadm_id               int64 \n",
      " 2   admittime             object\n",
      " 3   dischtime             object\n",
      " 4   deathtime             object\n",
      " 5   admission_type        object\n",
      " 6   admission_location    object\n",
      " 7   discharge_location    object\n",
      " 8   insurance             object\n",
      " 9   language              object\n",
      " 10  marital_status        object\n",
      " 11  ethnicity             object\n",
      " 12  edregtime             object\n",
      " 13  edouttime             object\n",
      " 14  hospital_expire_flag  int64 \n",
      " 15  gender                object\n",
      " 16  anchor_age            int64 \n",
      " 17  anchor_year           int64 \n",
      " 18  anchor_year_group     object\n",
      " 19  dod                   object\n",
      " 20  transfer_id           int64 \n",
      " 21  eventtype             object\n",
      " 22  careunit              object\n",
      " 23  intime                object\n",
      " 24  outtime               object\n",
      "dtypes: int64(6), object(19)\n",
      "memory usage: 365.2+ MB\n"
     ]
    }
   ],
   "source": [
    "df_core_fusion.info()"
   ]
  },
  {
   "cell_type": "code",
   "execution_count": 7,
   "id": "9591b51e",
   "metadata": {},
   "outputs": [],
   "source": [
    "df_core_icu_fusion = df_core_fusion.merge(df_icustays, on=('subject_id', 'hadm_id'))"
   ]
  },
  {
   "cell_type": "code",
   "execution_count": 8,
   "id": "30845395",
   "metadata": {
    "scrolled": true
   },
   "outputs": [
    {
     "name": "stdout",
     "output_type": "stream",
     "text": [
      "<class 'pandas.core.frame.DataFrame'>\n",
      "Int64Index: 420372 entries, 0 to 420371\n",
      "Data columns (total 31 columns):\n",
      " #   Column                Non-Null Count   Dtype  \n",
      "---  ------                --------------   -----  \n",
      " 0   subject_id            420372 non-null  int64  \n",
      " 1   hadm_id               420372 non-null  int64  \n",
      " 2   admittime             420372 non-null  object \n",
      " 3   dischtime             420372 non-null  object \n",
      " 4   deathtime             47063 non-null   object \n",
      " 5   admission_type        420372 non-null  object \n",
      " 6   admission_location    420372 non-null  object \n",
      " 7   discharge_location    417901 non-null  object \n",
      " 8   insurance             420372 non-null  object \n",
      " 9   language              420372 non-null  object \n",
      " 10  marital_status        393342 non-null  object \n",
      " 11  ethnicity             420372 non-null  object \n",
      " 12  edregtime             288815 non-null  object \n",
      " 13  edouttime             288815 non-null  object \n",
      " 14  hospital_expire_flag  420372 non-null  int64  \n",
      " 15  gender                420372 non-null  object \n",
      " 16  anchor_age            420372 non-null  int64  \n",
      " 17  anchor_year           420372 non-null  int64  \n",
      " 18  anchor_year_group     420372 non-null  object \n",
      " 19  dod                   75393 non-null   object \n",
      " 20  transfer_id           420372 non-null  int64  \n",
      " 21  eventtype             420372 non-null  object \n",
      " 22  careunit              331068 non-null  object \n",
      " 23  intime_x              420372 non-null  object \n",
      " 24  outtime_x             343832 non-null  object \n",
      " 25  stay_id               420372 non-null  int64  \n",
      " 26  first_careunit        420372 non-null  object \n",
      " 27  last_careunit         420372 non-null  object \n",
      " 28  intime_y              420372 non-null  object \n",
      " 29  outtime_y             420372 non-null  object \n",
      " 30  los                   420372 non-null  float64\n",
      "dtypes: float64(1), int64(7), object(23)\n",
      "memory usage: 102.6+ MB\n"
     ]
    }
   ],
   "source": [
    "df_core_icu_fusion.info()"
   ]
  },
  {
   "cell_type": "markdown",
   "id": "2b7aa205",
   "metadata": {},
   "source": [
    "#### CXR dataset fusion"
   ]
  },
  {
   "cell_type": "code",
   "execution_count": 9,
   "id": "549e10eb",
   "metadata": {},
   "outputs": [],
   "source": [
    "df_cxr_merged = df_mimic_cxr_chexpert.merge(df_mimic_cxr_metadata, on= ('subject_id', 'study_id'))"
   ]
  },
  {
   "cell_type": "code",
   "execution_count": 10,
   "id": "99cc3137",
   "metadata": {
    "scrolled": true
   },
   "outputs": [
    {
     "name": "stdout",
     "output_type": "stream",
     "text": [
      "<class 'pandas.core.frame.DataFrame'>\n",
      "Int64Index: 377095 entries, 0 to 377094\n",
      "Data columns (total 29 columns):\n",
      " #   Column                                      Non-Null Count   Dtype  \n",
      "---  ------                                      --------------   -----  \n",
      " 0   subject_id                                  377095 non-null  int64  \n",
      " 1   study_id                                    377095 non-null  int64  \n",
      " 2   Atelectasis                                 82830 non-null   float64\n",
      " 3   Cardiomegaly                                97781 non-null   float64\n",
      " 4   Consolidation                               35377 non-null   float64\n",
      " 5   Edema                                       96892 non-null   float64\n",
      " 6   Enlarged Cardiomediastinum                  31333 non-null   float64\n",
      " 7   Fracture                                    10413 non-null   float64\n",
      " 8   Lung Lesion                                 14547 non-null   float64\n",
      " 9   Lung Opacity                                87445 non-null   float64\n",
      " 10  No Finding                                  143352 non-null  float64\n",
      " 11  Pleural Effusion                            128890 non-null  float64\n",
      " 12  Pleural Other                               5106 non-null    float64\n",
      " 13  Pneumonia                                   98730 non-null   float64\n",
      " 14  Pneumothorax                                73538 non-null   float64\n",
      " 15  Support Devices                             89593 non-null   float64\n",
      " 16  dicom_id                                    377095 non-null  object \n",
      " 17  PerformedProcedureStepDescription           341588 non-null  object \n",
      " 18  ViewPosition                                361326 non-null  object \n",
      " 19  Rows                                        377095 non-null  float64\n",
      " 20  Columns                                     377095 non-null  float64\n",
      " 21  StudyDate                                   377095 non-null  float64\n",
      " 22  StudyTime                                   377095 non-null  float64\n",
      " 23  ProcedureCodeSequence_CodeMeaning           377095 non-null  object \n",
      " 24  ViewCodeSequence_CodeMeaning                360598 non-null  object \n",
      " 25  PatientOrientationCodeSequence_CodeMeaning  335930 non-null  object \n",
      " 26  StudyDateForm                               377095 non-null  object \n",
      " 27  StudyTimeForm                               377095 non-null  object \n",
      " 28  cxrtime                                     377095 non-null  object \n",
      "dtypes: float64(18), int64(2), object(9)\n",
      "memory usage: 86.3+ MB\n"
     ]
    }
   ],
   "source": [
    "df_cxr_merged.info()"
   ]
  },
  {
   "cell_type": "markdown",
   "id": "c356aa67",
   "metadata": {},
   "source": [
    "#### Core_ICU_CXR Fusion"
   ]
  },
  {
   "cell_type": "code",
   "execution_count": 11,
   "id": "ce090ae9",
   "metadata": {},
   "outputs": [],
   "source": [
    "df_core_icu_cxr_fusion = df_core_icu_fusion.merge(df_cxr_merged, on=(\"subject_id\"))"
   ]
  },
  {
   "cell_type": "code",
   "execution_count": 12,
   "id": "ad3fb6a5",
   "metadata": {
    "scrolled": true
   },
   "outputs": [
    {
     "name": "stdout",
     "output_type": "stream",
     "text": [
      "<class 'pandas.core.frame.DataFrame'>\n",
      "Int64Index: 3227874 entries, 0 to 3227873\n",
      "Data columns (total 59 columns):\n",
      " #   Column                                      Dtype  \n",
      "---  ------                                      -----  \n",
      " 0   subject_id                                  int64  \n",
      " 1   hadm_id                                     int64  \n",
      " 2   admittime                                   object \n",
      " 3   dischtime                                   object \n",
      " 4   deathtime                                   object \n",
      " 5   admission_type                              object \n",
      " 6   admission_location                          object \n",
      " 7   discharge_location                          object \n",
      " 8   insurance                                   object \n",
      " 9   language                                    object \n",
      " 10  marital_status                              object \n",
      " 11  ethnicity                                   object \n",
      " 12  edregtime                                   object \n",
      " 13  edouttime                                   object \n",
      " 14  hospital_expire_flag                        int64  \n",
      " 15  gender                                      object \n",
      " 16  anchor_age                                  int64  \n",
      " 17  anchor_year                                 int64  \n",
      " 18  anchor_year_group                           object \n",
      " 19  dod                                         object \n",
      " 20  transfer_id                                 int64  \n",
      " 21  eventtype                                   object \n",
      " 22  careunit                                    object \n",
      " 23  intime_x                                    object \n",
      " 24  outtime_x                                   object \n",
      " 25  stay_id                                     int64  \n",
      " 26  first_careunit                              object \n",
      " 27  last_careunit                               object \n",
      " 28  intime_y                                    object \n",
      " 29  outtime_y                                   object \n",
      " 30  los                                         float64\n",
      " 31  study_id                                    int64  \n",
      " 32  Atelectasis                                 float64\n",
      " 33  Cardiomegaly                                float64\n",
      " 34  Consolidation                               float64\n",
      " 35  Edema                                       float64\n",
      " 36  Enlarged Cardiomediastinum                  float64\n",
      " 37  Fracture                                    float64\n",
      " 38  Lung Lesion                                 float64\n",
      " 39  Lung Opacity                                float64\n",
      " 40  No Finding                                  float64\n",
      " 41  Pleural Effusion                            float64\n",
      " 42  Pleural Other                               float64\n",
      " 43  Pneumonia                                   float64\n",
      " 44  Pneumothorax                                float64\n",
      " 45  Support Devices                             float64\n",
      " 46  dicom_id                                    object \n",
      " 47  PerformedProcedureStepDescription           object \n",
      " 48  ViewPosition                                object \n",
      " 49  Rows                                        float64\n",
      " 50  Columns                                     float64\n",
      " 51  StudyDate                                   float64\n",
      " 52  StudyTime                                   float64\n",
      " 53  ProcedureCodeSequence_CodeMeaning           object \n",
      " 54  ViewCodeSequence_CodeMeaning                object \n",
      " 55  PatientOrientationCodeSequence_CodeMeaning  object \n",
      " 56  StudyDateForm                               object \n",
      " 57  StudyTimeForm                               object \n",
      " 58  cxrtime                                     object \n",
      "dtypes: float64(19), int64(8), object(32)\n",
      "memory usage: 1.4+ GB\n"
     ]
    }
   ],
   "source": [
    "df_core_icu_cxr_fusion.info()"
   ]
  },
  {
   "cell_type": "code",
   "execution_count": 23,
   "id": "edd0872b",
   "metadata": {},
   "outputs": [],
   "source": [
    "demo_embeddings = ['anchor_age', 'gender', 'ethnicity', 'marital_status', 'language', 'insurance']\n",
    "\n",
    "for i in range (len(demo_embeddings)):\n",
    "      \n",
    "    df_core_icu_cxr_fusion['de_'+str(i)] = df_core_icu_cxr_fusion[demo_embeddings[i]]"
   ]
  },
  {
   "cell_type": "code",
   "execution_count": 57,
   "id": "2d15a105",
   "metadata": {},
   "outputs": [],
   "source": [
    "import numpy as np\n",
    "\n",
    "df_core_icu_cxr_fusion['death_status'] = np.where(df_core_icu_cxr_fusion['discharge_location'] == 'DIED' ,1,0)"
   ]
  },
  {
   "cell_type": "code",
   "execution_count": null,
   "id": "441a39da",
   "metadata": {},
   "outputs": [],
   "source": [
    "df_core_icu_cxr_fusion = df_core_icu_cxr_fusion.drop(['anchor_age', 'gender', 'ethnicity', 'marital_status', 'language', 'insurance'], axis=1)"
   ]
  },
  {
   "cell_type": "code",
   "execution_count": 63,
   "id": "da4a5fdd",
   "metadata": {},
   "outputs": [],
   "source": [
    "df_core_icu_cxr_fusion = df_core_icu_cxr_fusion.drop(['discharge_location'], axis =1)"
   ]
  },
  {
   "cell_type": "code",
   "execution_count": 37,
   "id": "32702f76",
   "metadata": {},
   "outputs": [],
   "source": [
    "df_core_icu_cxr_fusion = df_core_icu_cxr_fusion.loc[: , ['subject_id', 'hadm_id', 'stay_id', 'de_0', 'de_1', 'de_2', 'de_3', 'de_4',\n",
    "       'de_5', 'admittime', 'dischtime', 'deathtime',\n",
    "       'admission_type', 'admission_location', 'discharge_location',\n",
    "       'edregtime', 'edouttime', 'hospital_expire_flag', 'anchor_year',\n",
    "       'anchor_year_group', 'dod', 'transfer_id', 'eventtype', 'careunit',\n",
    "       'intime_x', 'outtime_x', 'first_careunit', 'last_careunit',\n",
    "       'intime_y', 'outtime_y', 'los', 'study_id', 'Atelectasis',\n",
    "       'Cardiomegaly', 'Consolidation', 'Edema', 'Enlarged Cardiomediastinum',\n",
    "       'Fracture', 'Lung Lesion', 'Lung Opacity', 'No Finding',\n",
    "       'Pleural Effusion', 'Pleural Other', 'Pneumonia', 'Pneumothorax',\n",
    "       'Support Devices', 'dicom_id', 'PerformedProcedureStepDescription',\n",
    "       'ViewPosition', 'Rows', 'Columns', 'StudyDate', 'StudyTime',\n",
    "       'ProcedureCodeSequence_CodeMeaning', 'ViewCodeSequence_CodeMeaning',\n",
    "       'PatientOrientationCodeSequence_CodeMeaning', 'StudyDateForm',\n",
    "       'StudyTimeForm', 'cxrtime']]"
   ]
  },
  {
   "cell_type": "code",
   "execution_count": 66,
   "id": "cdf90aae",
   "metadata": {},
   "outputs": [],
   "source": [
    "df_core_icu_cxr_fusion = df_core_icu_cxr_fusion.loc[: , ['subject_id', 'hadm_id', 'stay_id', 'de_0', 'de_1', 'de_2', 'de_3',\n",
    "       'de_4', 'de_5', 'death_status', 'admittime', 'dischtime', 'deathtime', 'admission_type',\n",
    "       'admission_location', 'edregtime', 'edouttime', 'hospital_expire_flag',\n",
    "       'anchor_year', 'anchor_year_group', 'dod', 'transfer_id', 'eventtype',\n",
    "       'careunit', 'intime_x', 'outtime_x', 'first_careunit', 'last_careunit',\n",
    "       'intime_y', 'outtime_y', 'los', 'study_id', 'Atelectasis',\n",
    "       'Cardiomegaly', 'Consolidation', 'Edema', 'Enlarged Cardiomediastinum',\n",
    "       'Fracture', 'Lung Lesion', 'Lung Opacity', 'No Finding',\n",
    "       'Pleural Effusion', 'Pleural Other', 'Pneumonia', 'Pneumothorax',\n",
    "       'Support Devices', 'dicom_id', 'PerformedProcedureStepDescription',\n",
    "       'ViewPosition', 'Rows', 'Columns', 'StudyDate', 'StudyTime',\n",
    "       'ProcedureCodeSequence_CodeMeaning', 'ViewCodeSequence_CodeMeaning',\n",
    "       'PatientOrientationCodeSequence_CodeMeaning', 'StudyDateForm',\n",
    "       'StudyTimeForm', 'cxrtime']]"
   ]
  },
  {
   "cell_type": "code",
   "execution_count": 69,
   "id": "235e62dd",
   "metadata": {
    "scrolled": true
   },
   "outputs": [
    {
     "data": {
      "text/plain": [
       "Index(['subject_id', 'hadm_id', 'stay_id', 'de_0', 'de_1', 'de_2', 'de_3',\n",
       "       'de_4', 'de_5', 'death_status', 'admittime', 'dischtime', 'deathtime',\n",
       "       'admission_type', 'admission_location', 'edregtime', 'edouttime',\n",
       "       'hospital_expire_flag', 'anchor_year', 'anchor_year_group', 'dod',\n",
       "       'transfer_id', 'eventtype', 'careunit', 'intime_x', 'outtime_x',\n",
       "       'first_careunit', 'last_careunit', 'intime_y', 'outtime_y', 'los',\n",
       "       'study_id', 'Atelectasis', 'Cardiomegaly', 'Consolidation', 'Edema',\n",
       "       'Enlarged Cardiomediastinum', 'Fracture', 'Lung Lesion', 'Lung Opacity',\n",
       "       'No Finding', 'Pleural Effusion', 'Pleural Other', 'Pneumonia',\n",
       "       'Pneumothorax', 'Support Devices', 'dicom_id',\n",
       "       'PerformedProcedureStepDescription', 'ViewPosition', 'Rows', 'Columns',\n",
       "       'StudyDate', 'StudyTime', 'ProcedureCodeSequence_CodeMeaning',\n",
       "       'ViewCodeSequence_CodeMeaning',\n",
       "       'PatientOrientationCodeSequence_CodeMeaning', 'StudyDateForm',\n",
       "       'StudyTimeForm', 'cxrtime'],\n",
       "      dtype='object')"
      ]
     },
     "execution_count": 69,
     "metadata": {},
     "output_type": "execute_result"
    }
   ],
   "source": [
    "df_core_icu_cxr_fusion.columns"
   ]
  },
  {
   "cell_type": "code",
   "execution_count": 70,
   "id": "67a4e742",
   "metadata": {},
   "outputs": [
    {
     "data": {
      "text/plain": [
       "20245"
      ]
     },
     "execution_count": 70,
     "metadata": {},
     "output_type": "execute_result"
    }
   ],
   "source": [
    "len(df_core_icu_cxr_fusion['subject_id'].unique())"
   ]
  },
  {
   "cell_type": "code",
   "execution_count": 68,
   "id": "7991d1f4",
   "metadata": {},
   "outputs": [],
   "source": [
    "df_core_icu_cxr_fusion.to_csv(\"df_core_icu_cxr_fusion.csv\")"
   ]
  }
 ],
 "metadata": {
  "kernelspec": {
   "display_name": "Python 3 (ipykernel)",
   "language": "python",
   "name": "python3"
  },
  "language_info": {
   "codemirror_mode": {
    "name": "ipython",
    "version": 3
   },
   "file_extension": ".py",
   "mimetype": "text/x-python",
   "name": "python",
   "nbconvert_exporter": "python",
   "pygments_lexer": "ipython3",
   "version": "3.8.10"
  }
 },
 "nbformat": 4,
 "nbformat_minor": 5
}
