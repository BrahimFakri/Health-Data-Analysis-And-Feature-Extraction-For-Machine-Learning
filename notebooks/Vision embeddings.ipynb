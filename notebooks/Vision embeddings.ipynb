{
 "cells": [
  {
   "cell_type": "markdown",
   "id": "5b927125",
   "metadata": {},
   "source": [
    "import"
   ]
  },
  {
   "cell_type": "code",
   "execution_count": null,
   "id": "058c2571",
   "metadata": {},
   "outputs": [],
   "source": []
  },
  {
   "cell_type": "code",
   "execution_count": null,
   "id": "15e55323",
   "metadata": {},
   "outputs": [],
   "source": []
  },
  {
   "cell_type": "markdown",
   "id": "abdea064",
   "metadata": {},
   "source": [
    "load images"
   ]
  },
  {
   "cell_type": "code",
   "execution_count": null,
   "id": "fccc8e64",
   "metadata": {},
   "outputs": [],
   "source": []
  },
  {
   "cell_type": "code",
   "execution_count": null,
   "id": "50fcd9ae",
   "metadata": {},
   "outputs": [],
   "source": []
  },
  {
   "cell_type": "markdown",
   "id": "a70b3b56",
   "metadata": {},
   "source": [
    "code initial"
   ]
  },
  {
   "cell_type": "code",
   "execution_count": null,
   "id": "b97cbd49",
   "metadata": {},
   "outputs": [],
   "source": [
    "def get_single_chest_xray_embeddings(img):\n",
    "    # Inputs:\n",
    "    #   img -> Image array\n",
    "    #\n",
    "    # Outputs:\n",
    "    #   densefeature_embeddings ->  CXR dense feature embeddings for image\n",
    "    #   prediction_embeddings ->  CXR embeddings of predictions for image\n",
    "    \n",
    "    \n",
    "    # %% EXAMPLE OF USE\n",
    "    # densefeature_embeddings, prediction_embeddings = get_single_chest_xray_embeddings(img)\n",
    "    \n",
    "    # Select model with a String that determines the model to use for Chest Xrays according to https://github.com/mlmed/torchxrayvision\n",
    "    model_weights_name = \"densenet121-res224-chex\" # CheXpert (Stanford)\n",
    "        \n",
    "        # NOTE: The all model has every output trained. However, for the other weights some targets are not trained and will predict randomly becuase they do not exist in the training dataset.\n",
    "    \n",
    "    # Extract chest x-ray image embeddings and preddictions\n",
    "    densefeature_embeddings = []\n",
    "    prediction_embeddings = []\n",
    "    \n",
    "    #img = skimage.io.imread(img_path) # If importing from path use this\n",
    "    img = xrv.datasets.normalize(img, 255)\n",
    "    \n",
    "    \n",
    "    # For each image check if they are 2D arrays\n",
    "    if len(img.shape) > 2:\n",
    "        img = img[:, :, 0]\n",
    "    if len(img.shape) < 2:\n",
    "        print(\"Error: Dimension lower than 2 for image!\")\n",
    "        \n",
    "        \n",
    "    # Add color channel for prediction\n",
    "    #Resize using OpenCV\n",
    "    img = cv2.resize(img, (224, 224), interpolation = cv2.INTER_AREA)   \n",
    "    img = img[None, :, :]\n",
    "    \n",
    "    "
   ]
  },
  {
   "cell_type": "code",
   "execution_count": null,
   "id": "c06c8f24",
   "metadata": {},
   "outputs": [],
   "source": [
    "# CHEST XRAY VISION EMBEDDINGS EXTRACTION\n",
    "aggregated_densefeature_embeddings, _, aggregated_prediction_embeddings, _, _ = get_chest_xray_embeddings(dt_patient, verbose=0)\n",
    "gc.collect() #Clear memory\n",
    "\n",
    "\n",
    "# CHEST XRAY VISION SINGLE-IMAGE EMBEDDINGS EXTRACTION\n",
    "print('getting xray')\n",
    "img = df_imcxr[idx]\n",
    "densefeature_embeddings, prediction_embeddings = get_single_chest_xray_embeddings(img)\n",
    "gc.collect() #Clear memory"
   ]
  },
  {
   "cell_type": "code",
   "execution_count": null,
   "id": "99a16ed4",
   "metadata": {},
   "outputs": [],
   "source": []
  },
  {
   "cell_type": "code",
   "execution_count": null,
   "id": "19f875c6",
   "metadata": {},
   "outputs": [],
   "source": []
  },
  {
   "cell_type": "code",
   "execution_count": null,
   "id": "8943d5d1",
   "metadata": {},
   "outputs": [],
   "source": [
    "df_vision_dense_embeddings_fusion = pd.DataFrame(densefeature_embeddings.reshape(1,-1), columns=['vd_'+str(i) for i in range(densefeature_embeddings.shape[0])])\n",
    "df_vision_predictions_embeddings_fusion = pd.DataFrame(prediction_embeddings.reshape(1,-1), columns=['vp_'+str(i) for i in range(prediction_embeddings.shape[0])])\n",
    "df_vision_multi_dense_embeddings_fusion = pd.DataFrame(aggregated_densefeature_embeddings.reshape(1,-1), columns=['vmd_'+str(i) for i in range(aggregated_densefeature_embeddings.shape[0])])\n",
    "df_vision_multi_predictions_embeddings_fusion = pd.DataFrame(aggregated_prediction_embeddings.reshape(1,-1), columns=['vmp_'+str(i) for i in range(aggregated_prediction_embeddings.shape[0])])\n",
    "\n"
   ]
  },
  {
   "cell_type": "code",
   "execution_count": null,
   "id": "d702917f",
   "metadata": {},
   "outputs": [],
   "source": []
  },
  {
   "cell_type": "code",
   "execution_count": null,
   "id": "2df8a939",
   "metadata": {},
   "outputs": [],
   "source": []
  }
 ],
 "metadata": {
  "kernelspec": {
   "display_name": "Python 3 (ipykernel)",
   "language": "python",
   "name": "python3"
  },
  "language_info": {
   "codemirror_mode": {
    "name": "ipython",
    "version": 3
   },
   "file_extension": ".py",
   "mimetype": "text/x-python",
   "name": "python",
   "nbconvert_exporter": "python",
   "pygments_lexer": "ipython3",
   "version": "3.9.7"
  }
 },
 "nbformat": 4,
 "nbformat_minor": 5
}
