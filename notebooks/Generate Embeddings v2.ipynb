{
 "cells": [
  {
   "cell_type": "markdown",
   "id": "b2f312a6",
   "metadata": {},
   "source": [
    "### Imports"
   ]
  },
  {
   "cell_type": "code",
   "execution_count": 1,
   "id": "8412b090",
   "metadata": {},
   "outputs": [],
   "source": [
    "import os\n",
    "os.chdir('../')\n",
    "\n",
    "from src.data import constants\n",
    "from src.utils import Extract_features_all_events, Extract_demographic_embeddings\n",
    "\n",
    "import pandas as pd\n"
   ]
  },
  {
   "cell_type": "markdown",
   "id": "94acb2c7",
   "metadata": {},
   "source": [
    "## Create chart events features for patient cohort"
   ]
  },
  {
   "cell_type": "code",
   "execution_count": null,
   "id": "f71387cd",
   "metadata": {},
   "outputs": [],
   "source": [
    "chart_fusion = []\n",
    "for patient in constants.cohort:\n",
    "\n",
    "    chart_fusion.append(Extract_features_all_events.extract_chart_events(constants.chartevents, patient))\n",
    "    "
   ]
  },
  {
   "cell_type": "markdown",
   "id": "9dcce374",
   "metadata": {},
   "source": [
    "### Concatenate chart events fusion features"
   ]
  },
  {
   "cell_type": "code",
   "execution_count": null,
   "id": "1f3dc16a",
   "metadata": {},
   "outputs": [],
   "source": [
    "chart_fusion = pd.concat(chart_fusion, axis=0)"
   ]
  },
  {
   "cell_type": "markdown",
   "id": "400dff86",
   "metadata": {},
   "source": [
    "## Create lab events features for patient cohort"
   ]
  },
  {
   "cell_type": "code",
   "execution_count": null,
   "id": "8e9a87bd",
   "metadata": {
    "scrolled": true
   },
   "outputs": [],
   "source": [
    "lab_fusion = []\n",
    "for patient in constants.cohort:\n",
    "    \n",
    "    lab_fusion.append(Extract_features_all_events.extract_lab_events(constants.labevents, patient))\n",
    "    "
   ]
  },
  {
   "cell_type": "markdown",
   "id": "8fb5e040",
   "metadata": {},
   "source": [
    "### Concatenate lab events fusion features"
   ]
  },
  {
   "cell_type": "code",
   "execution_count": null,
   "id": "e4dee526",
   "metadata": {},
   "outputs": [],
   "source": [
    "lab_fusion = pd.concat(lab_fusion, axis=0)"
   ]
  },
  {
   "cell_type": "markdown",
   "id": "c3fccc51",
   "metadata": {},
   "source": [
    "## Create procedure events features for patient cohort"
   ]
  },
  {
   "cell_type": "code",
   "execution_count": null,
   "id": "c3204a19",
   "metadata": {},
   "outputs": [],
   "source": [
    "procedure_fusion = []\n",
    "for patient in constants.cohort:\n",
    "   \n",
    "    procedure_fusion.append(Extract_features_all_events.extract_procedure_events(constants.procedureevents, patient))\n",
    "    "
   ]
  },
  {
   "cell_type": "code",
   "execution_count": null,
   "id": "36d4441a",
   "metadata": {},
   "outputs": [],
   "source": [
    "procedure_fusion = pd.concat(procedure_fusion, axis=0)"
   ]
  },
  {
   "cell_type": "markdown",
   "id": "acaa444f",
   "metadata": {},
   "source": [
    "# Demographics"
   ]
  },
  {
   "cell_type": "code",
   "execution_count": 2,
   "id": "8648a9fa",
   "metadata": {},
   "outputs": [],
   "source": [
    "demographics_fusion = Extract_demographic_embeddings.extract_demographics()"
   ]
  },
  {
   "cell_type": "code",
   "execution_count": null,
   "id": "6953c1db",
   "metadata": {},
   "outputs": [],
   "source": [
    "demographics_fusion = demographics_fusion[demographics_fusion['subject_id'].isin(constants.cohort)]"
   ]
  },
  {
   "cell_type": "markdown",
   "id": "9fd8fa60",
   "metadata": {},
   "source": [
    "# Concatenate fusion features horizontally for all patients"
   ]
  },
  {
   "cell_type": "code",
   "execution_count": null,
   "id": "28ee10e4",
   "metadata": {},
   "outputs": [],
   "source": [
    "fusion_dataframe = pd.concat([demographics_fusion, chart_fusion, lab_fusion, procedure_fusion ], axis=1)"
   ]
  },
  {
   "cell_type": "markdown",
   "id": "097bd121",
   "metadata": {},
   "source": [
    "### Renaming the index as subject_id"
   ]
  },
  {
   "cell_type": "code",
   "execution_count": null,
   "id": "e515ff4b",
   "metadata": {},
   "outputs": [],
   "source": [
    "fusion_dataframe.index.names = [\"subject_id\"]"
   ]
  },
  {
   "cell_type": "markdown",
   "id": "d1588cd4",
   "metadata": {},
   "source": [
    "### Exporting the dataframe to a csv file"
   ]
  },
  {
   "cell_type": "code",
   "execution_count": null,
   "id": "7af11553",
   "metadata": {},
   "outputs": [],
   "source": [
    "fusion_dataframe.to_csv(\"csvs/fusion_dataframe.csv\", index=True)"
   ]
  },
  {
   "cell_type": "code",
   "execution_count": null,
   "id": "55fde1a1",
   "metadata": {},
   "outputs": [],
   "source": []
  },
  {
   "cell_type": "code",
   "execution_count": null,
   "id": "0b155343",
   "metadata": {},
   "outputs": [],
   "source": []
  },
  {
   "cell_type": "code",
   "execution_count": null,
   "id": "afc1ff1f",
   "metadata": {},
   "outputs": [],
   "source": []
  }
 ],
 "metadata": {
  "kernelspec": {
   "display_name": "Python 3 (ipykernel)",
   "language": "python",
   "name": "python3"
  },
  "language_info": {
   "codemirror_mode": {
    "name": "ipython",
    "version": 3
   },
   "file_extension": ".py",
   "mimetype": "text/x-python",
   "name": "python",
   "nbconvert_exporter": "python",
   "pygments_lexer": "ipython3",
   "version": "3.9.13"
  }
 },
 "nbformat": 4,
 "nbformat_minor": 5
}
