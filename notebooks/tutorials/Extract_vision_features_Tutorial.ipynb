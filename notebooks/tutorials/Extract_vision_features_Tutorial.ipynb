{
 "cells": [
  {
   "cell_type": "markdown",
   "metadata": {
    "id": "l2uwoXl75ZS-"
   },
   "source": [
    "The goal of this notebook is to use the method ```extract_vision_features``` and the datasources in csv to generate ```vision embeddings```.\n",
    "\n",
    "Note: in this notebook, we only use a sample of 10 patients to make the data processing and extraction easier for our tests.\n",
    "\n",
    "If ```torchxrayvision``` is not installed, intall it using ``````!pip install torchxrayvision``````"
   ]
  },
  {
   "cell_type": "code",
   "execution_count": null,
   "metadata": {
    "id": "9Fpid1U-5PtW"
   },
   "outputs": [],
   "source": [
    "import torchxrayvision as xrv\n",
    "\n",
    "import skimage\n",
    "import cv2\n",
    "import torch\n",
    "\n",
    "import torch.nn.functional as F\n",
    "\n",
    "import pandas as pd\n",
    "import numpy as np\n",
    "\n",
    "import os\n",
    "from os import listdir\n",
    "\n",
    "import os\n",
    "os.chdir('../')\n",
    "\n",
    "from src.data import constants\n",
    "from src.utils import extract_vision_features"
   ]
  },
  {
   "cell_type": "markdown",
   "metadata": {
    "id": "cVrj_GLT5gBo"
   },
   "source": [
    "Start by reading sample images and sample patients"
   ]
  },
  {
   "cell_type": "code",
   "execution_count": null,
   "metadata": {
    "id": "2J8G434qXbhA"
   },
   "outputs": [],
   "source": [
    "# Read images:\n",
    "image_path_folder = constants.image_path_folder\n",
    "\n",
    "# Read sample patients\n",
    "df_10_dicoms = pd.read_csv(constants.df_10_dicoms)\n"
   ]
  },
  {
   "cell_type": "markdown",
   "metadata": {
    "id": "IzJRJ3x1Pjst"
   },
   "source": [
    "We start by creating empty dataframes to store the vision embeddings and the concatenation.\n",
    "\n",
    "Two types of embeddings are generated in this notebook:\n",
    "- vision dense embeddings\n",
    "- vision predictions embeddings\n",
    "\n",
    "For further details, please refer to : https://github.com/mlmed/torchxrayvision/blob/0eafebf36a3f5f30302dff0faaacef5e52243e87/scripts/process_image.py"
   ]
  },
  {
   "cell_type": "code",
   "execution_count": null,
   "metadata": {
    "id": "1mbWbzCMvAjB"
   },
   "outputs": [],
   "source": [
    "#creating empty dataframes to store the vision embeddings and the concatenation:\n",
    "df_vision_dense_embeddings_fusion = pd.DataFrame()\n",
    "df_vision_predictions_embeddings_fusion = pd.DataFrame()\n",
    "vision_embeddings = pd.DataFrame()\n",
    "\n",
    "\n",
    "#iterating through sample file to read dicom_id for each image and process the corresponding image using torchxrayvision:\n",
    "for img_id in df_10_dicoms[df_10_dicoms.dicom_id.isin(constants.sample_images)].dicom_id:\n",
    "    \n",
    "    for root, dirs, files in os.walk(image_path_folder):\n",
    "        \n",
    "        for name in files:\n",
    "            \n",
    "            if img_id == name[0:44]: # avoid reading the extension .jpg\n",
    "                \n",
    "                # image processing and features extraction:\n",
    "                img = skimage.io.imread(image_path_folder + name)\n",
    "                \n",
    "                # embeddings concatenation for both types:\n",
    "                df_vision_predictions_embeddings_fusion = df_vision_predictions_embeddings_fusion.append(extract_vision_features(img)[0])\n",
    "                df_vision_dense_embeddings_fusion = df_vision_dense_embeddings_fusion.append(extract_vision_features(img)[1])\n",
    "        \n",
    "\n",
    "# combining both embeddings in one dataframe:\n",
    "vision_embeddings = pd.concat([ df_vision_predictions_embeddings_fusion , df_vision_dense_embeddings_fusion], axis=1)\n",
    "vision_embeddings.insert(0, \"subject_id\", [element for element in df_10_dicoms[\"subject_id\"].unique()])\n",
    "vision_embeddings.insert(1, \"img_id\", [element for element in constants.sample_images])\n",
    "\n",
    "#Display extracted vision_embeddings:\n",
    "vision_embeddings\n"
   ]
  },
  {
   "cell_type": "code",
   "execution_count": null,
   "metadata": {},
   "outputs": [],
   "source": []
  }
 ],
 "metadata": {
  "colab": {
   "provenance": []
  },
  "kernelspec": {
   "display_name": "Python 3 (ipykernel)",
   "language": "python",
   "name": "python3"
  },
  "language_info": {
   "codemirror_mode": {
    "name": "ipython",
    "version": 3
   },
   "file_extension": ".py",
   "mimetype": "text/x-python",
   "name": "python",
   "nbconvert_exporter": "python",
   "pygments_lexer": "ipython3",
   "version": "3.9.7"
  }
 },
 "nbformat": 4,
 "nbformat_minor": 1
}
