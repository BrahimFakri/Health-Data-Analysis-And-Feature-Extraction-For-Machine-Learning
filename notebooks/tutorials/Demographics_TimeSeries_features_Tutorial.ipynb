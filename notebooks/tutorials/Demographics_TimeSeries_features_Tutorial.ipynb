{
 "cells": [
  {
   "cell_type": "markdown",
   "id": "621980d0",
   "metadata": {},
   "source": [
    "The goal of this notebook is to use the methods in the module ```extraction_classes.py``` and the datasources in ```csv``` to generate demographic and time series embeddings.\n",
    "\n",
    "in the first cell, we import all constants and modules necessary for this notebook, then in the following cells, we create dataframes from extracted features using the functions mentionned above.\n",
    "\n",
    "And finally, we concatenate the dataframe to create our fusion dataframe to be used in machine learning.\n",
    "\n",
    "Note: in this notebook, we only use a cohort of 10 patients to make the data processing and extraction easier for our tests. Objects from classes are intantiated  inside each extraction line. For example:\n",
    "\n",
    "``extraction_classes.Event_extraction(patient).extract_chart_events(patient)`` in this code, the loop creates an object ``Event_extraction`` for each ``patient`` in the cohort and apllies the method  ``extract_chart_events``.\n",
    "\n",
    "\n",
    "To generate embeddings for all patients, more processing time is required, especially for time series feature extraction. \n",
    "\n"
   ]
  },
  {
   "cell_type": "markdown",
   "id": "b2f312a6",
   "metadata": {},
   "source": [
    "### Imports"
   ]
  },
  {
   "cell_type": "code",
   "execution_count": null,
   "id": "8412b090",
   "metadata": {},
   "outputs": [],
   "source": [
    "import os\n",
    "os.chdir('../..')\n",
    "\n",
    "from src.data import constants\n",
    "from src.utils import extraction_classes\n",
    "\n",
    "import pandas as pd\n"
   ]
  },
  {
   "cell_type": "markdown",
   "id": "94acb2c7",
   "metadata": {},
   "source": [
    "## Create chart events features for patient cohort"
   ]
  },
  {
   "cell_type": "markdown",
   "id": "f10205ba",
   "metadata": {},
   "source": [
    "Start by creating an empty list that will be filled with the extracted features for chart events:"
   ]
  },
  {
   "cell_type": "code",
   "execution_count": null,
   "id": "f71387cd",
   "metadata": {
    "scrolled": true
   },
   "outputs": [],
   "source": [
    "chart_fusion = []\n",
    "for patient in constants.cohort:\n",
    "\n",
    "    chart_fusion.append(extraction_classes.Event_extraction(patient).extract_chart_events(patient))\n",
    "    "
   ]
  },
  {
   "cell_type": "markdown",
   "id": "9dcce374",
   "metadata": {},
   "source": [
    "### Concatenate chart events fusion features"
   ]
  },
  {
   "cell_type": "markdown",
   "id": "540f290d",
   "metadata": {},
   "source": [
    "Concatenate features along the 0 axis for all patients:"
   ]
  },
  {
   "cell_type": "code",
   "execution_count": null,
   "id": "1f3dc16a",
   "metadata": {},
   "outputs": [],
   "source": [
    "chart_fusion = pd.concat(chart_fusion, axis=0)"
   ]
  },
  {
   "cell_type": "markdown",
   "id": "400dff86",
   "metadata": {},
   "source": [
    "## Create lab events features for patient cohort"
   ]
  },
  {
   "cell_type": "markdown",
   "id": "9a2946bf",
   "metadata": {},
   "source": [
    "Start by creating an empty list that will be filled with the extracted features for lab events:"
   ]
  },
  {
   "cell_type": "code",
   "execution_count": null,
   "id": "8e9a87bd",
   "metadata": {
    "scrolled": true
   },
   "outputs": [],
   "source": [
    "lab_fusion = []\n",
    "for patient in constants.cohort:\n",
    "    \n",
    "    lab_fusion.append(extraction_classes.Event_extraction(patient).extract_lab_events(patient))\n",
    "    "
   ]
  },
  {
   "cell_type": "markdown",
   "id": "8fb5e040",
   "metadata": {},
   "source": [
    "### Concatenate lab events fusion features"
   ]
  },
  {
   "cell_type": "markdown",
   "id": "8a30ab16",
   "metadata": {},
   "source": [
    "Concatenate features along the 0 axis for all patients:"
   ]
  },
  {
   "cell_type": "code",
   "execution_count": null,
   "id": "e4dee526",
   "metadata": {},
   "outputs": [],
   "source": [
    "lab_fusion = pd.concat(lab_fusion, axis=0)"
   ]
  },
  {
   "cell_type": "markdown",
   "id": "c3fccc51",
   "metadata": {},
   "source": [
    "## Create procedure events features for patient cohort"
   ]
  },
  {
   "cell_type": "markdown",
   "id": "bfb1e8f6",
   "metadata": {},
   "source": [
    "Start by creating an empty list that will be filled with the extracted features for procedure events:"
   ]
  },
  {
   "cell_type": "code",
   "execution_count": null,
   "id": "c3204a19",
   "metadata": {},
   "outputs": [],
   "source": [
    "procedure_fusion = []\n",
    "for patient in constants.cohort:\n",
    "   \n",
    "    procedure_fusion.append(extraction_classes.Event_extraction(patient).extract_procedure_events(patient))\n",
    "    "
   ]
  },
  {
   "cell_type": "markdown",
   "id": "669a906d",
   "metadata": {},
   "source": [
    "### Concatenate procedure events fusion features"
   ]
  },
  {
   "cell_type": "markdown",
   "id": "3d994c11",
   "metadata": {},
   "source": [
    "Concatenate features along the 0 axis for all patients:"
   ]
  },
  {
   "cell_type": "code",
   "execution_count": null,
   "id": "36d4441a",
   "metadata": {},
   "outputs": [],
   "source": [
    "procedure_fusion = pd.concat(procedure_fusion, axis=0)"
   ]
  },
  {
   "cell_type": "markdown",
   "id": "9e55c476",
   "metadata": {},
   "source": [
    "## Create demographic features for patient cohort"
   ]
  },
  {
   "cell_type": "markdown",
   "id": "b553c8bd",
   "metadata": {},
   "source": [
    "Create and object `Demographic_extraction` and call medthod `extract_demographics` :"
   ]
  },
  {
   "cell_type": "code",
   "execution_count": null,
   "id": "a2cc3125",
   "metadata": {},
   "outputs": [],
   "source": [
    "demographics_fusion = extraction_classes.Demographic_extraction().extract_demographics()"
   ]
  },
  {
   "cell_type": "markdown",
   "id": "262d99dd",
   "metadata": {},
   "source": [
    "Filter dataframe using patients in the `cohort`:"
   ]
  },
  {
   "cell_type": "code",
   "execution_count": null,
   "id": "613e680b",
   "metadata": {},
   "outputs": [],
   "source": [
    "demographics_fusion = demographics_fusion[demographics_fusion['subject_id'].isin(constants.cohort)]"
   ]
  },
  {
   "cell_type": "code",
   "execution_count": null,
   "id": "604e752c",
   "metadata": {},
   "outputs": [],
   "source": [
    "demographics_fusion"
   ]
  },
  {
   "cell_type": "code",
   "execution_count": null,
   "id": "dd8847c0",
   "metadata": {},
   "outputs": [],
   "source": [
    "#df.drop_duplicates(subset=['subject_id'])\n",
    "\n",
    "demographics_fusion = demographics_fusion.drop_duplicates(subset=['subject_id'])"
   ]
  },
  {
   "cell_type": "code",
   "execution_count": null,
   "id": "805f41c5",
   "metadata": {},
   "outputs": [],
   "source": [
    "demographics_fusion"
   ]
  },
  {
   "cell_type": "code",
   "execution_count": null,
   "id": "98940065",
   "metadata": {},
   "outputs": [],
   "source": [
    "demographics_fusion = demographics_fusion.set_index('subject_id')"
   ]
  },
  {
   "cell_type": "code",
   "execution_count": null,
   "id": "97eec276",
   "metadata": {},
   "outputs": [],
   "source": [
    "demographics_fusion"
   ]
  },
  {
   "cell_type": "markdown",
   "id": "9fd8fa60",
   "metadata": {},
   "source": [
    "# Concatenate fusion features horizontally for all patients"
   ]
  },
  {
   "cell_type": "markdown",
   "id": "19f1f66f",
   "metadata": {},
   "source": [
    "Concatenate the generated dataframes to combine  all features"
   ]
  },
  {
   "cell_type": "code",
   "execution_count": null,
   "id": "28ee10e4",
   "metadata": {},
   "outputs": [],
   "source": [
    "fusion_ts_dem_dataframe = pd.concat([demographics_fusion, chart_fusion, lab_fusion, procedure_fusion ], axis=1)"
   ]
  },
  {
   "cell_type": "code",
   "execution_count": null,
   "id": "ec36d328",
   "metadata": {},
   "outputs": [],
   "source": []
  },
  {
   "cell_type": "code",
   "execution_count": null,
   "id": "52bb0fe0",
   "metadata": {},
   "outputs": [],
   "source": [
    "fusion_ts_dem_dataframe"
   ]
  },
  {
   "cell_type": "markdown",
   "id": "097bd121",
   "metadata": {},
   "source": [
    "### Renaming the index as subject_id"
   ]
  },
  {
   "cell_type": "markdown",
   "id": "13d184ca",
   "metadata": {},
   "source": [
    "Rename the genarated dataframe index for the purpose of exporting to csv (order by subject_id):"
   ]
  },
  {
   "cell_type": "code",
   "execution_count": null,
   "id": "e515ff4b",
   "metadata": {},
   "outputs": [],
   "source": [
    "fusion_ts_dem_dataframe.index.names = [\"subject_id\"]\n",
    "fusion_ts_dem_dataframe = fusion_ts_dem_dataframe.sort_values(by=['subject_id'])"
   ]
  },
  {
   "cell_type": "code",
   "execution_count": null,
   "id": "5731cdb6",
   "metadata": {},
   "outputs": [],
   "source": [
    "fusion_ts_dem_dataframe"
   ]
  },
  {
   "cell_type": "markdown",
   "id": "d1588cd4",
   "metadata": {},
   "source": [
    "### Exporting the dataframe to a csv file"
   ]
  },
  {
   "cell_type": "code",
   "execution_count": null,
   "id": "7af11553",
   "metadata": {},
   "outputs": [],
   "source": [
    "fusion_dataframe.to_csv(\"csvs/fusion_ts_dem_dataframe.csv\", index=True)"
   ]
  }
 ],
 "metadata": {
  "kernelspec": {
   "display_name": "Python 3 (ipykernel)",
   "language": "python",
   "name": "python3"
  },
  "language_info": {
   "codemirror_mode": {
    "name": "ipython",
    "version": 3
   },
   "file_extension": ".py",
   "mimetype": "text/x-python",
   "name": "python",
   "nbconvert_exporter": "python",
   "pygments_lexer": "ipython3",
   "version": "3.9.7"
  }
 },
 "nbformat": 4,
 "nbformat_minor": 5
}
