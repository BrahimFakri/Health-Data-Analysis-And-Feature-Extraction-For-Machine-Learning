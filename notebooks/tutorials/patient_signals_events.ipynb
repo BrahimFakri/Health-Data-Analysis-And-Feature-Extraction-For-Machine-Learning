{
 "cells": [
  {
   "cell_type": "code",
   "execution_count": 1,
   "id": "8e826123",
   "metadata": {},
   "outputs": [],
   "source": [
    "import os\n",
    "os.chdir('../')\n",
    "\n",
    "from pandas import read_csv\n",
    "\n",
    "from src.data import constants"
   ]
  },
  {
   "cell_type": "code",
   "execution_count": 2,
   "id": "0f3eefb9",
   "metadata": {},
   "outputs": [],
   "source": [
    "#icu\n",
    "df_d_items = read_csv(constants.d_items)\n",
    "\n",
    "\n",
    "\n"
   ]
  },
  {
   "cell_type": "code",
   "execution_count": 3,
   "id": "db6fa8a2",
   "metadata": {},
   "outputs": [
    {
     "data": {
      "text/plain": [
       "Index(['itemid', 'label', 'abbreviation', 'linksto', 'category', 'unitname',\n",
       "       'param_type', 'lownormalvalue', 'highnormalvalue'],\n",
       "      dtype='object')"
      ]
     },
     "execution_count": 3,
     "metadata": {},
     "output_type": "execute_result"
    }
   ],
   "source": [
    "df_d_items.columns"
   ]
  },
  {
   "cell_type": "code",
   "execution_count": 4,
   "id": "df5d50bc",
   "metadata": {},
   "outputs": [
    {
     "data": {
      "text/plain": [
       "array(['ICU Admission date', 'Heart Rate', 'Heart rate Alarm - High', ...,\n",
       "       'Backup Controller (HeartWare)', 'Foley Cath Removal Date',\n",
       "       'Absolute Neutrophil Count'], dtype=object)"
      ]
     },
     "execution_count": 4,
     "metadata": {},
     "output_type": "execute_result"
    }
   ],
   "source": [
    "df_d_items['label'].unique()"
   ]
  },
  {
   "cell_type": "code",
   "execution_count": 5,
   "id": "6fe25dd0",
   "metadata": {},
   "outputs": [
    {
     "data": {
      "text/plain": [
       "3736"
      ]
     },
     "execution_count": 5,
     "metadata": {},
     "output_type": "execute_result"
    }
   ],
   "source": [
    "len(df_d_items['label'].unique())"
   ]
  },
  {
   "cell_type": "code",
   "execution_count": 12,
   "id": "63ddc77a",
   "metadata": {},
   "outputs": [
    {
     "data": {
      "text/html": [
       "<div>\n",
       "<style scoped>\n",
       "    .dataframe tbody tr th:only-of-type {\n",
       "        vertical-align: middle;\n",
       "    }\n",
       "\n",
       "    .dataframe tbody tr th {\n",
       "        vertical-align: top;\n",
       "    }\n",
       "\n",
       "    .dataframe thead th {\n",
       "        text-align: right;\n",
       "    }\n",
       "</style>\n",
       "<table border=\"1\" class=\"dataframe\">\n",
       "  <thead>\n",
       "    <tr style=\"text-align: right;\">\n",
       "      <th></th>\n",
       "      <th>itemid</th>\n",
       "      <th>label</th>\n",
       "      <th>abbreviation</th>\n",
       "      <th>linksto</th>\n",
       "      <th>category</th>\n",
       "      <th>unitname</th>\n",
       "      <th>param_type</th>\n",
       "      <th>lownormalvalue</th>\n",
       "      <th>highnormalvalue</th>\n",
       "    </tr>\n",
       "  </thead>\n",
       "  <tbody>\n",
       "    <tr>\n",
       "      <th>1</th>\n",
       "      <td>220045</td>\n",
       "      <td>Heart Rate</td>\n",
       "      <td>HR</td>\n",
       "      <td>chartevents</td>\n",
       "      <td>Routine Vital Signs</td>\n",
       "      <td>bpm</td>\n",
       "      <td>Numeric</td>\n",
       "      <td>NaN</td>\n",
       "      <td>NaN</td>\n",
       "    </tr>\n",
       "    <tr>\n",
       "      <th>22</th>\n",
       "      <td>220179</td>\n",
       "      <td>Non Invasive Blood Pressure systolic</td>\n",
       "      <td>NBPs</td>\n",
       "      <td>chartevents</td>\n",
       "      <td>Routine Vital Signs</td>\n",
       "      <td>mmHg</td>\n",
       "      <td>Numeric</td>\n",
       "      <td>NaN</td>\n",
       "      <td>NaN</td>\n",
       "    </tr>\n",
       "    <tr>\n",
       "      <th>23</th>\n",
       "      <td>220180</td>\n",
       "      <td>Non Invasive Blood Pressure diastolic</td>\n",
       "      <td>NBPd</td>\n",
       "      <td>chartevents</td>\n",
       "      <td>Routine Vital Signs</td>\n",
       "      <td>mmHg</td>\n",
       "      <td>Numeric</td>\n",
       "      <td>NaN</td>\n",
       "      <td>NaN</td>\n",
       "    </tr>\n",
       "    <tr>\n",
       "      <th>24</th>\n",
       "      <td>220181</td>\n",
       "      <td>Non Invasive Blood Pressure mean</td>\n",
       "      <td>NBPm</td>\n",
       "      <td>chartevents</td>\n",
       "      <td>Routine Vital Signs</td>\n",
       "      <td>mmHg</td>\n",
       "      <td>Numeric</td>\n",
       "      <td>NaN</td>\n",
       "      <td>NaN</td>\n",
       "    </tr>\n",
       "    <tr>\n",
       "      <th>26</th>\n",
       "      <td>220210</td>\n",
       "      <td>Respiratory Rate</td>\n",
       "      <td>RR</td>\n",
       "      <td>chartevents</td>\n",
       "      <td>Respiratory</td>\n",
       "      <td>insp/min</td>\n",
       "      <td>Numeric</td>\n",
       "      <td>NaN</td>\n",
       "      <td>NaN</td>\n",
       "    </tr>\n",
       "    <tr>\n",
       "      <th>33</th>\n",
       "      <td>220277</td>\n",
       "      <td>O2 saturation pulseoxymetry</td>\n",
       "      <td>SpO2</td>\n",
       "      <td>chartevents</td>\n",
       "      <td>Respiratory</td>\n",
       "      <td>%</td>\n",
       "      <td>Numeric</td>\n",
       "      <td>NaN</td>\n",
       "      <td>NaN</td>\n",
       "    </tr>\n",
       "    <tr>\n",
       "      <th>63</th>\n",
       "      <td>220739</td>\n",
       "      <td>GCS - Eye Opening</td>\n",
       "      <td>Eye Opening</td>\n",
       "      <td>chartevents</td>\n",
       "      <td>Neurological</td>\n",
       "      <td>NaN</td>\n",
       "      <td>Text</td>\n",
       "      <td>NaN</td>\n",
       "      <td>NaN</td>\n",
       "    </tr>\n",
       "    <tr>\n",
       "      <th>285</th>\n",
       "      <td>223900</td>\n",
       "      <td>GCS - Verbal Response</td>\n",
       "      <td>Verbal Response</td>\n",
       "      <td>chartevents</td>\n",
       "      <td>Neurological</td>\n",
       "      <td>NaN</td>\n",
       "      <td>Text</td>\n",
       "      <td>NaN</td>\n",
       "      <td>NaN</td>\n",
       "    </tr>\n",
       "    <tr>\n",
       "      <th>286</th>\n",
       "      <td>223901</td>\n",
       "      <td>GCS - Motor Response</td>\n",
       "      <td>Motor Response</td>\n",
       "      <td>chartevents</td>\n",
       "      <td>Neurological</td>\n",
       "      <td>NaN</td>\n",
       "      <td>Text</td>\n",
       "      <td>NaN</td>\n",
       "      <td>NaN</td>\n",
       "    </tr>\n",
       "  </tbody>\n",
       "</table>\n",
       "</div>"
      ],
      "text/plain": [
       "     itemid                                  label     abbreviation  \\\n",
       "1    220045                             Heart Rate               HR   \n",
       "22   220179   Non Invasive Blood Pressure systolic             NBPs   \n",
       "23   220180  Non Invasive Blood Pressure diastolic             NBPd   \n",
       "24   220181       Non Invasive Blood Pressure mean             NBPm   \n",
       "26   220210                       Respiratory Rate               RR   \n",
       "33   220277            O2 saturation pulseoxymetry             SpO2   \n",
       "63   220739                      GCS - Eye Opening      Eye Opening   \n",
       "285  223900                  GCS - Verbal Response  Verbal Response   \n",
       "286  223901                   GCS - Motor Response   Motor Response   \n",
       "\n",
       "         linksto             category  unitname param_type  lownormalvalue  \\\n",
       "1    chartevents  Routine Vital Signs       bpm    Numeric             NaN   \n",
       "22   chartevents  Routine Vital Signs      mmHg    Numeric             NaN   \n",
       "23   chartevents  Routine Vital Signs      mmHg    Numeric             NaN   \n",
       "24   chartevents  Routine Vital Signs      mmHg    Numeric             NaN   \n",
       "26   chartevents          Respiratory  insp/min    Numeric             NaN   \n",
       "33   chartevents          Respiratory         %    Numeric             NaN   \n",
       "63   chartevents         Neurological       NaN       Text             NaN   \n",
       "285  chartevents         Neurological       NaN       Text             NaN   \n",
       "286  chartevents         Neurological       NaN       Text             NaN   \n",
       "\n",
       "     highnormalvalue  \n",
       "1                NaN  \n",
       "22               NaN  \n",
       "23               NaN  \n",
       "24               NaN  \n",
       "26               NaN  \n",
       "33               NaN  \n",
       "63               NaN  \n",
       "285              NaN  \n",
       "286              NaN  "
      ]
     },
     "execution_count": 12,
     "metadata": {},
     "output_type": "execute_result"
    }
   ],
   "source": [
    "event_list = ['Heart Rate','Non Invasive Blood Pressure systolic',\n",
    "                    'Non Invasive Blood Pressure diastolic', 'Non Invasive Blood Pressure mean', \n",
    "                    'Respiratory Rate','O2 saturation pulseoxymetry', \n",
    "                    'GCS - Verbal Response', 'GCS - Eye Opening', 'GCS - Motor Response'] \n",
    "\n",
    "df_d_items[df_d_items['label'].isin(event_list)]"
   ]
  },
  {
   "cell_type": "code",
   "execution_count": 17,
   "id": "955f58aa",
   "metadata": {},
   "outputs": [
    {
     "data": {
      "text/plain": [
       "itemid               int64\n",
       "label               object\n",
       "abbreviation        object\n",
       "linksto             object\n",
       "category            object\n",
       "unitname            object\n",
       "param_type          object\n",
       "lownormalvalue     float64\n",
       "highnormalvalue    float64\n",
       "dtype: object"
      ]
     },
     "execution_count": 17,
     "metadata": {},
     "output_type": "execute_result"
    }
   ],
   "source": [
    "df_d_items.dtypes"
   ]
  },
  {
   "cell_type": "code",
   "execution_count": 16,
   "id": "ddcbe6f3",
   "metadata": {},
   "outputs": [
    {
     "data": {
      "text/html": [
       "<div>\n",
       "<style scoped>\n",
       "    .dataframe tbody tr th:only-of-type {\n",
       "        vertical-align: middle;\n",
       "    }\n",
       "\n",
       "    .dataframe tbody tr th {\n",
       "        vertical-align: top;\n",
       "    }\n",
       "\n",
       "    .dataframe thead th {\n",
       "        text-align: right;\n",
       "    }\n",
       "</style>\n",
       "<table border=\"1\" class=\"dataframe\">\n",
       "  <thead>\n",
       "    <tr style=\"text-align: right;\">\n",
       "      <th></th>\n",
       "      <th>category</th>\n",
       "      <th>label</th>\n",
       "    </tr>\n",
       "  </thead>\n",
       "  <tbody>\n",
       "    <tr>\n",
       "      <th>1</th>\n",
       "      <td>Routine Vital Signs</td>\n",
       "      <td>Heart Rate</td>\n",
       "    </tr>\n",
       "    <tr>\n",
       "      <th>22</th>\n",
       "      <td>Routine Vital Signs</td>\n",
       "      <td>Non Invasive Blood Pressure systolic</td>\n",
       "    </tr>\n",
       "    <tr>\n",
       "      <th>23</th>\n",
       "      <td>Routine Vital Signs</td>\n",
       "      <td>Non Invasive Blood Pressure diastolic</td>\n",
       "    </tr>\n",
       "    <tr>\n",
       "      <th>24</th>\n",
       "      <td>Routine Vital Signs</td>\n",
       "      <td>Non Invasive Blood Pressure mean</td>\n",
       "    </tr>\n",
       "    <tr>\n",
       "      <th>26</th>\n",
       "      <td>Respiratory</td>\n",
       "      <td>Respiratory Rate</td>\n",
       "    </tr>\n",
       "    <tr>\n",
       "      <th>33</th>\n",
       "      <td>Respiratory</td>\n",
       "      <td>O2 saturation pulseoxymetry</td>\n",
       "    </tr>\n",
       "    <tr>\n",
       "      <th>63</th>\n",
       "      <td>Neurological</td>\n",
       "      <td>GCS - Eye Opening</td>\n",
       "    </tr>\n",
       "    <tr>\n",
       "      <th>285</th>\n",
       "      <td>Neurological</td>\n",
       "      <td>GCS - Verbal Response</td>\n",
       "    </tr>\n",
       "    <tr>\n",
       "      <th>286</th>\n",
       "      <td>Neurological</td>\n",
       "      <td>GCS - Motor Response</td>\n",
       "    </tr>\n",
       "  </tbody>\n",
       "</table>\n",
       "</div>"
      ],
      "text/plain": [
       "                category                                  label\n",
       "1    Routine Vital Signs                             Heart Rate\n",
       "22   Routine Vital Signs   Non Invasive Blood Pressure systolic\n",
       "23   Routine Vital Signs  Non Invasive Blood Pressure diastolic\n",
       "24   Routine Vital Signs       Non Invasive Blood Pressure mean\n",
       "26           Respiratory                       Respiratory Rate\n",
       "33           Respiratory            O2 saturation pulseoxymetry\n",
       "63          Neurological                      GCS - Eye Opening\n",
       "285         Neurological                  GCS - Verbal Response\n",
       "286         Neurological                   GCS - Motor Response"
      ]
     },
     "execution_count": 16,
     "metadata": {},
     "output_type": "execute_result"
    }
   ],
   "source": [
    "df_d_items_chart = df_d_items[df_d_items['label'].isin(event_list)]\n",
    "\n",
    "df_d_items_chart = df_d_items_chart[[\"category\",\"label\"]]\n",
    "\n",
    "df_d_items_chart"
   ]
  },
  {
   "cell_type": "code",
   "execution_count": null,
   "id": "66c24526",
   "metadata": {},
   "outputs": [],
   "source": []
  },
  {
   "cell_type": "code",
   "execution_count": 11,
   "id": "18dd3687",
   "metadata": {},
   "outputs": [
    {
     "data": {
      "text/plain": [
       "array(['datetimeevents', 'chartevents', 'inputevents', 'procedureevents',\n",
       "       'outputevents'], dtype=object)"
      ]
     },
     "execution_count": 11,
     "metadata": {},
     "output_type": "execute_result"
    }
   ],
   "source": [
    "df_d_items['linksto'].unique()"
   ]
  }
 ],
 "metadata": {
  "kernelspec": {
   "display_name": "Python 3 (ipykernel)",
   "language": "python",
   "name": "python3"
  },
  "language_info": {
   "codemirror_mode": {
    "name": "ipython",
    "version": 3
   },
   "file_extension": ".py",
   "mimetype": "text/x-python",
   "name": "python",
   "nbconvert_exporter": "python",
   "pygments_lexer": "ipython3",
   "version": "3.9.7"
  }
 },
 "nbformat": 4,
 "nbformat_minor": 5
}
