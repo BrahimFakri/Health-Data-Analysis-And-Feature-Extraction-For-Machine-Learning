{
 "cells": [
  {
   "cell_type": "markdown",
   "id": "e5e07885",
   "metadata": {},
   "source": [
    "### Imports\n"
   ]
  },
  {
   "cell_type": "code",
   "execution_count": 1,
   "id": "e06af37c",
   "metadata": {},
   "outputs": [],
   "source": [
    "import os\n",
    "os.chdir('../')\n",
    "\n",
    "from pandas import read_csv\n",
    "\n",
    "from src.data import constants\n"
   ]
  },
  {
   "cell_type": "markdown",
   "id": "8d9d6beb",
   "metadata": {},
   "source": [
    "### Read data from local source"
   ]
  },
  {
   "cell_type": "code",
   "execution_count": 11,
   "id": "1904b698",
   "metadata": {},
   "outputs": [],
   "source": [
    "df_patients = read_csv(constants.patients)\n",
    "df_mimic_cxr_chexpert = read_csv(constants.mimic_cxr_chexpert)\n",
    "df_mimic_cxr_metadata = read_csv(constants.mimic_cxr_metadata)\n",
    "df_icustays = read_csv(constants.icustays)"
   ]
  },
  {
   "cell_type": "markdown",
   "id": "5f82a7de",
   "metadata": {},
   "source": [
    "### Datasets information"
   ]
  },
  {
   "cell_type": "code",
   "execution_count": 7,
   "id": "e16239e2",
   "metadata": {},
   "outputs": [
    {
     "name": "stdout",
     "output_type": "stream",
     "text": [
      "<class 'pandas.core.frame.DataFrame'>\n",
      "RangeIndex: 382278 entries, 0 to 382277\n",
      "Data columns (total 6 columns):\n",
      " #   Column             Non-Null Count   Dtype \n",
      "---  ------             --------------   ----- \n",
      " 0   subject_id         382278 non-null  int64 \n",
      " 1   gender             382278 non-null  object\n",
      " 2   anchor_age         382278 non-null  int64 \n",
      " 3   anchor_year        382278 non-null  int64 \n",
      " 4   anchor_year_group  382278 non-null  object\n",
      " 5   dod                9509 non-null    object\n",
      "dtypes: int64(3), object(3)\n",
      "memory usage: 17.5+ MB\n"
     ]
    }
   ],
   "source": [
    "df_patients.info()"
   ]
  },
  {
   "cell_type": "code",
   "execution_count": 8,
   "id": "35510ffe",
   "metadata": {},
   "outputs": [
    {
     "name": "stdout",
     "output_type": "stream",
     "text": [
      "<class 'pandas.core.frame.DataFrame'>\n",
      "RangeIndex: 227827 entries, 0 to 227826\n",
      "Data columns (total 16 columns):\n",
      " #   Column                      Non-Null Count   Dtype  \n",
      "---  ------                      --------------   -----  \n",
      " 0   subject_id                  227827 non-null  int64  \n",
      " 1   study_id                    227827 non-null  int64  \n",
      " 2   Atelectasis                 57666 non-null   float64\n",
      " 3   Cardiomegaly                66799 non-null   float64\n",
      " 4   Consolidation               23076 non-null   float64\n",
      " 5   Edema                       65833 non-null   float64\n",
      " 6   Enlarged Cardiomediastinum  21837 non-null   float64\n",
      " 7   Fracture                    5831 non-null    float64\n",
      " 8   Lung Lesion                 8287 non-null    float64\n",
      " 9   Lung Opacity                58425 non-null   float64\n",
      " 10  No Finding                  75455 non-null   float64\n",
      " 11  Pleural Effusion            87272 non-null   float64\n",
      " 12  Pleural Other               2902 non-null    float64\n",
      " 13  Pneumonia                   59185 non-null   float64\n",
      " 14  Pneumothorax                53848 non-null   float64\n",
      " 15  Support Devices             70281 non-null   float64\n",
      "dtypes: float64(14), int64(2)\n",
      "memory usage: 27.8 MB\n"
     ]
    }
   ],
   "source": [
    "df_mimic_cxr_chexpert.info()"
   ]
  },
  {
   "cell_type": "code",
   "execution_count": 9,
   "id": "14573e0a",
   "metadata": {},
   "outputs": [
    {
     "name": "stdout",
     "output_type": "stream",
     "text": [
      "<class 'pandas.core.frame.DataFrame'>\n",
      "RangeIndex: 377110 entries, 0 to 377109\n",
      "Data columns (total 12 columns):\n",
      " #   Column                                      Non-Null Count   Dtype  \n",
      "---  ------                                      --------------   -----  \n",
      " 0   dicom_id                                    377110 non-null  object \n",
      " 1   subject_id                                  377110 non-null  int64  \n",
      " 2   study_id                                    377110 non-null  int64  \n",
      " 3   PerformedProcedureStepDescription           341598 non-null  object \n",
      " 4   ViewPosition                                361341 non-null  object \n",
      " 5   Rows                                        377110 non-null  int64  \n",
      " 6   Columns                                     377110 non-null  int64  \n",
      " 7   StudyDate                                   377110 non-null  int64  \n",
      " 8   StudyTime                                   377110 non-null  float64\n",
      " 9   ProcedureCodeSequence_CodeMeaning           377110 non-null  object \n",
      " 10  ViewCodeSequence_CodeMeaning                360613 non-null  object \n",
      " 11  PatientOrientationCodeSequence_CodeMeaning  335944 non-null  object \n",
      "dtypes: float64(1), int64(5), object(6)\n",
      "memory usage: 34.5+ MB\n"
     ]
    }
   ],
   "source": [
    "df_mimic_cxr_metadata.info()"
   ]
  },
  {
   "cell_type": "code",
   "execution_count": 12,
   "id": "eda5ce3c",
   "metadata": {},
   "outputs": [
    {
     "name": "stdout",
     "output_type": "stream",
     "text": [
      "<class 'pandas.core.frame.DataFrame'>\n",
      "RangeIndex: 76540 entries, 0 to 76539\n",
      "Data columns (total 8 columns):\n",
      " #   Column          Non-Null Count  Dtype  \n",
      "---  ------          --------------  -----  \n",
      " 0   subject_id      76540 non-null  int64  \n",
      " 1   hadm_id         76540 non-null  int64  \n",
      " 2   stay_id         76540 non-null  int64  \n",
      " 3   first_careunit  76540 non-null  object \n",
      " 4   last_careunit   76540 non-null  object \n",
      " 5   intime          76540 non-null  object \n",
      " 6   outtime         76540 non-null  object \n",
      " 7   los             76540 non-null  float64\n",
      "dtypes: float64(1), int64(3), object(4)\n",
      "memory usage: 4.7+ MB\n"
     ]
    }
   ],
   "source": [
    "df_icustays.info()"
   ]
  },
  {
   "cell_type": "markdown",
   "id": "f1345b0a",
   "metadata": {},
   "source": [
    "### Number of unique subject_id in the Patient table : "
   ]
  },
  {
   "cell_type": "code",
   "execution_count": 3,
   "id": "fa165115",
   "metadata": {},
   "outputs": [
    {
     "name": "stdout",
     "output_type": "stream",
     "text": [
      "382278\n"
     ]
    }
   ],
   "source": [
    "print(len(df_patients[\"subject_id\"].unique()))"
   ]
  },
  {
   "cell_type": "markdown",
   "id": "a244f9b4",
   "metadata": {},
   "source": [
    "### Number of unique subject_id in the mimic_cxr_chexpert table : "
   ]
  },
  {
   "cell_type": "code",
   "execution_count": 4,
   "id": "8cd302d5",
   "metadata": {
    "scrolled": true
   },
   "outputs": [
    {
     "name": "stdout",
     "output_type": "stream",
     "text": [
      "65379\n"
     ]
    }
   ],
   "source": [
    "print(len(df_mimic_cxr_chexpert[\"subject_id\"].unique()))\n"
   ]
  },
  {
   "cell_type": "markdown",
   "id": "88906a9f",
   "metadata": {},
   "source": [
    "### Number of unique dicom_id and subject_id in the mimic_cxr_metadata table : "
   ]
  },
  {
   "cell_type": "code",
   "execution_count": 5,
   "id": "ccd5b212",
   "metadata": {},
   "outputs": [
    {
     "name": "stdout",
     "output_type": "stream",
     "text": [
      "377110\n",
      "65379\n"
     ]
    }
   ],
   "source": [
    "print(len(df_mimic_cxr_metadata[\"dicom_id\"].unique()))\n",
    "print(len(df_mimic_cxr_metadata[\"subject_id\"].unique()))\n"
   ]
  },
  {
   "cell_type": "markdown",
   "id": "aa1ed9a1",
   "metadata": {},
   "source": [
    "### Number of unique subject_id, hadm_id, stay_id in the Icustays table : "
   ]
  },
  {
   "cell_type": "code",
   "execution_count": 13,
   "id": "9989064d",
   "metadata": {},
   "outputs": [
    {
     "name": "stdout",
     "output_type": "stream",
     "text": [
      "53150\n",
      "69211\n",
      "76540\n"
     ]
    }
   ],
   "source": [
    "print(len(df_icustays[\"subject_id\"].unique()))\n",
    "print(len(df_icustays[\"hadm_id\"].unique()))\n",
    "print(len(df_icustays[\"stay_id\"].unique()))\n"
   ]
  }
 ],
 "metadata": {
  "kernelspec": {
   "display_name": "Python 3 (ipykernel)",
   "language": "python",
   "name": "python3"
  },
  "language_info": {
   "codemirror_mode": {
    "name": "ipython",
    "version": 3
   },
   "file_extension": ".py",
   "mimetype": "text/x-python",
   "name": "python",
   "nbconvert_exporter": "python",
   "pygments_lexer": "ipython3",
   "version": "3.9.7"
  }
 },
 "nbformat": 4,
 "nbformat_minor": 5
}
