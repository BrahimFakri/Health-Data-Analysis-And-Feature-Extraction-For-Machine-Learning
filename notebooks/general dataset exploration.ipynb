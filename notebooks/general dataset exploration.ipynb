{
 "cells": [
  {
   "cell_type": "markdown",
   "id": "a14493df",
   "metadata": {},
   "source": [
    "### Imports\n"
   ]
  },
  {
   "cell_type": "code",
   "execution_count": 1,
   "id": "e06af37c",
   "metadata": {},
   "outputs": [],
   "source": [
    "import os\n",
    "os.chdir('../')\n",
    "\n",
    "from pandas import read_csv\n",
    "\n",
    "from src.data import constants\n"
   ]
  },
  {
   "cell_type": "markdown",
   "id": "8d9d6beb",
   "metadata": {},
   "source": [
    "### Read data from local source"
   ]
  },
  {
   "cell_type": "code",
   "execution_count": 10,
   "id": "52abcde1",
   "metadata": {},
   "outputs": [],
   "source": [
    "df_patients = read_csv(constants.patients)\n",
    "df_mimic_cxr_chexpert = read_csv(constants.mimic_cxr_chexpert)\n",
    "df_mimic_cxr_metadata = read_csv(constants.mimic_cxr_metadata)"
   ]
  },
  {
   "cell_type": "markdown",
   "id": "f3841339",
   "metadata": {},
   "source": [
    "### Number of unique subject_id in the Patient table : "
   ]
  },
  {
   "cell_type": "code",
   "execution_count": 9,
   "id": "bd7149ee",
   "metadata": {},
   "outputs": [
    {
     "name": "stdout",
     "output_type": "stream",
     "text": [
      "382278\n"
     ]
    }
   ],
   "source": [
    "print(len(df_patients[\"subject_id\"].unique()))"
   ]
  },
  {
   "cell_type": "markdown",
   "id": "fc67182d",
   "metadata": {},
   "source": [
    "### Number of unique subject_id in the mimic_cxr_chexpert table : "
   ]
  },
  {
   "cell_type": "code",
   "execution_count": 13,
   "id": "8cd302d5",
   "metadata": {
    "scrolled": true
   },
   "outputs": [
    {
     "name": "stdout",
     "output_type": "stream",
     "text": [
      "65379\n"
     ]
    }
   ],
   "source": [
    "print(len(df_mimic_cxr_chexpert[\"subject_id\"].unique()))\n"
   ]
  },
  {
   "cell_type": "markdown",
   "id": "3870bb9b",
   "metadata": {},
   "source": [
    "### Number of unique dicom_id and subject_id in the mimic_cxr_metadata table : "
   ]
  },
  {
   "cell_type": "code",
   "execution_count": 15,
   "id": "ccd5b212",
   "metadata": {},
   "outputs": [
    {
     "name": "stdout",
     "output_type": "stream",
     "text": [
      "377110\n",
      "65379\n"
     ]
    }
   ],
   "source": [
    "print(len(df_mimic_cxr_metadata[\"dicom_id\"].unique()))\n",
    "print(len(df_mimic_cxr_metadata[\"subject_id\"].unique()))\n"
   ]
  }
 ],
 "metadata": {
  "kernelspec": {
   "display_name": "Python 3 (ipykernel)",
   "language": "python",
   "name": "python3"
  },
  "language_info": {
   "codemirror_mode": {
    "name": "ipython",
    "version": 3
   },
   "file_extension": ".py",
   "mimetype": "text/x-python",
   "name": "python",
   "nbconvert_exporter": "python",
   "pygments_lexer": "ipython3",
   "version": "3.9.7"
  }
 },
 "nbformat": 4,
 "nbformat_minor": 5
}
